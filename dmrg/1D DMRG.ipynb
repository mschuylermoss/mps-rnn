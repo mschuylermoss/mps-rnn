{
 "cells": [
  {
   "cell_type": "code",
   "execution_count": 3,
   "id": "5e18d903",
   "metadata": {},
   "outputs": [
    {
     "name": "stderr",
     "output_type": "stream",
     "text": [
      "\u001b[36m\u001b[1m[ \u001b[22m\u001b[39m\u001b[36m\u001b[1mInfo: \u001b[22m\u001b[39mInstalling julia_ITensors kernelspec in /Users/mschuylerm/Library/Jupyter/kernels/julia_itensors-1.9\n"
     ]
    },
    {
     "data": {
      "text/plain": [
       "\"/Users/mschuylerm/Library/Jupyter/kernels/julia_itensors-1.9\""
      ]
     },
     "execution_count": 3,
     "metadata": {},
     "output_type": "execute_result"
    }
   ],
   "source": [
    "using IJulia\n",
    "installkernel(\"julia_ITensors\",\"--sysimage=~/.julia/sysimages/sys_itensors.so\")"
   ]
  },
  {
   "cell_type": "code",
   "execution_count": 4,
   "id": "60b751fb",
   "metadata": {},
   "outputs": [],
   "source": [
    "using ITensors\n",
    "using ITensors.HDF5\n",
    "using DataFrames"
   ]
  },
  {
   "cell_type": "markdown",
   "id": "7670fc67",
   "metadata": {},
   "source": [
    "# Description"
   ]
  },
  {
   "cell_type": "markdown",
   "id": "c2bcb8dd",
   "metadata": {},
   "source": [
    "In this notebook I run DMRG for multiple 1D spin systems. I look at spin chain lengths of $L = 10, 100$ for the Ising Model, the Transverse Field Ising Model, and the Heisenberg Model. I am working on the J1-J2 Model. After running DMRG, I save the optimized MPS to this local directory and then copy it over to the appropriate directory in my mps-rnn repository as an 'init.hdf5' file that gets used for hierarchical initialization of an mps-rnn."
   ]
  },
  {
   "cell_type": "markdown",
   "id": "47d40604",
   "metadata": {},
   "source": [
    "# Spin Chain"
   ]
  },
  {
   "cell_type": "code",
   "execution_count": 5,
   "id": "40ebe870",
   "metadata": {},
   "outputs": [
    {
     "data": {
      "text/plain": [
       "spinchain_open (generic function with 1 method)"
      ]
     },
     "execution_count": 5,
     "metadata": {},
     "output_type": "execute_result"
    }
   ],
   "source": [
    "function spinchain_open(L)\n",
    "    \n",
    "    interactions = DataFrame([\"$spin\"=>[] for spin in 1:L-1])\n",
    "    \n",
    "    for spin in 1:L-1\n",
    "        neighbor = spin+1\n",
    "        push!(interactions[!,\"$spin\"],[spin,neighbor])\n",
    "    end\n",
    "\n",
    "    return interactions\n",
    "end"
   ]
  },
  {
   "cell_type": "code",
   "execution_count": 6,
   "id": "ae35a1aa",
   "metadata": {},
   "outputs": [
    {
     "data": {
      "text/plain": [
       "spinchain_peri (generic function with 1 method)"
      ]
     },
     "execution_count": 6,
     "metadata": {},
     "output_type": "execute_result"
    }
   ],
   "source": [
    "function spinchain_peri(L)\n",
    "    \n",
    "    interactions = DataFrame([\"$spin\"=>[] for spin in 1:L])\n",
    "    \n",
    "    for spin in 1:L-1\n",
    "        neighbor = spin+1\n",
    "        push!(interactions[!,\"$spin\"],[spin,neighbor])\n",
    "    end\n",
    "    \n",
    "    push!(interactions[!,\"$L\"],[10,1])\n",
    "    \n",
    "    return interactions\n",
    "end"
   ]
  },
  {
   "cell_type": "markdown",
   "id": "f6fdb146",
   "metadata": {},
   "source": [
    "# Ising Model"
   ]
  },
  {
   "cell_type": "code",
   "execution_count": 5,
   "id": "9d6d4417",
   "metadata": {},
   "outputs": [
    {
     "data": {
      "text/plain": [
       "dmrg_1D_ising (generic function with 1 method)"
      ]
     },
     "execution_count": 5,
     "metadata": {},
     "output_type": "execute_result"
    }
   ],
   "source": [
    "function dmrg_1D_ising(L::Int, J, maxbd::Int, bc::String, save::Bool)\n",
    "    \n",
    "    if bc == \"open\"\n",
    "        interactions = spinchain_open(L)\n",
    "    elseif bc == \"peri\"\n",
    "        interactions = spinchain_peri(L)\n",
    "    end\n",
    "    \n",
    "    sites = siteinds(\"S=1/2\",L)\n",
    "    println(\"\\nRunning DMRG for a length $L spin chain\\n\")\n",
    "    \n",
    "    # Build Hamiltonian\n",
    "    os = OpSum()\n",
    "    for k=1:ncol(interactions)\n",
    "        i = interactions[!,k][1][1]\n",
    "        j = interactions[!,k][1][2]\n",
    "        os += 4*J,\"Sz\",i,\"Sz\",j\n",
    "    end\n",
    "    H = MPO(os,sites)\n",
    "\n",
    "    psi0 = randomMPS(sites, 40)\n",
    "\n",
    "    sweeps = Sweeps(10)\n",
    "    setmaxdim!(sweeps, 10,20,100,100,maxbd)\n",
    "    setcutoff!(sweeps, 1E-10)\n",
    "\n",
    "    energy, psi = dmrg(H, psi0, sweeps, outputlevel=1)\n",
    "    energy_per_spin = energy / L\n",
    "    \n",
    "    println(\"\\nA sample from the optimized MPS looks like:\\n\",sample(psi))\n",
    "    \n",
    "    if save   \n",
    "        f = h5open(\"../out/ising_fm_1d_L$(L)/sanity_check/init.hdf5\",\"w\") \n",
    "        write(f,\"psi\",psi)\n",
    "        close(f)\n",
    "    end\n",
    "    \n",
    "    for i =1:L\n",
    "        println(\"M\",i)\n",
    "        println(psi[i])\n",
    "    end\n",
    "    \n",
    "    return energy_per_spin\n",
    "end"
   ]
  },
  {
   "cell_type": "code",
   "execution_count": 6,
   "id": "c65f5df7",
   "metadata": {
    "scrolled": false
   },
   "outputs": [
    {
     "name": "stdout",
     "output_type": "stream",
     "text": [
      "\n",
      "Running DMRG for a length 10 spin chain\n",
      "\n",
      "After sweep 1 energy=-8.999996320485666  maxlinkdim=10 maxerr=8.23E-04 time=11.651\n",
      "After sweep 2 energy=-9.000000000000007  maxlinkdim=2 maxerr=9.96E-11 time=0.027\n",
      "After sweep 3 energy=-8.999999999999998  maxlinkdim=2 maxerr=4.37E-31 time=0.009\n",
      "After sweep 4 energy=-8.999999999999996  maxlinkdim=2 maxerr=6.66E-16 time=0.008\n",
      "After sweep 5 energy=-8.999999999999998  maxlinkdim=2 maxerr=1.39E-17 time=0.007\n",
      "After sweep 6 energy=-8.999999999999996  maxlinkdim=2 maxerr=6.66E-16 time=0.008\n",
      "After sweep 7 energy=-8.999999999999991  maxlinkdim=2 maxerr=6.66E-16 time=0.009\n",
      "After sweep 8 energy=-9.0  maxlinkdim=2 maxerr=6.80E-16 time=0.007\n",
      "After sweep 9 energy=-9.0  maxlinkdim=2 maxerr=6.80E-16 time=0.010\n",
      "After sweep 10 energy=-9.0  maxlinkdim=2 maxerr=6.80E-16 time=0.031\n",
      "\n",
      "A sample from the optimized MPS looks like:\n",
      "[2, 2, 2, 2, 2, 2, 2, 2, 2, 2]\n"
     ]
    },
    {
     "ename": "LoadError",
     "evalue": "HDF5.API.H5Error: Error creating file ../out/ising_fm_1d_L10/sanity_check/init.hdf5\nlibhdf5 Stacktrace:\n [1] \u001b[0m\u001b[1mH5FD__sec2_open\u001b[22m: File accessibility/Unable to open file\n\u001b[90m     unable to open file: name = '../out/ising_fm_1d_L10/sanity_check/init.hdf5', errno = 2, error message = 'No such file or directory', flags = 13, o_flags = 602\u001b[39m\n  ⋮",
     "output_type": "error",
     "traceback": [
      "HDF5.API.H5Error: Error creating file ../out/ising_fm_1d_L10/sanity_check/init.hdf5\nlibhdf5 Stacktrace:\n [1] \u001b[0m\u001b[1mH5FD__sec2_open\u001b[22m: File accessibility/Unable to open file\n\u001b[90m     unable to open file: name = '../out/ising_fm_1d_L10/sanity_check/init.hdf5', errno = 2, error message = 'No such file or directory', flags = 13, o_flags = 602\u001b[39m\n  ⋮",
      "",
      "Stacktrace:",
      " [1] macro expansion",
      "   @ ~/.julia/packages/HDF5/Ws1wH/src/api/error.jl:18 [inlined]",
      " [2] h5f_create(pathname::String, flags::UInt16, fcpl_id::HDF5.FileCreateProperties, fapl_id::HDF5.FileAccessProperties)",
      "   @ HDF5.API ~/.julia/packages/HDF5/Ws1wH/src/api/functions.jl:1088",
      " [3] h5open(filename::String, mode::String, fapl::HDF5.FileAccessProperties, fcpl::HDF5.FileCreateProperties; swmr::Bool)",
      "   @ HDF5 ~/.julia/packages/HDF5/Ws1wH/src/file.jl:43",
      " [4] h5open",
      "   @ ~/.julia/packages/HDF5/Ws1wH/src/file.jl:20 [inlined]",
      " [5] h5open(filename::String, mode::String; swmr::Bool, fapl::HDF5.FileAccessProperties, fcpl::HDF5.FileCreateProperties, pv::Base.Pairs{Symbol, Union{}, Tuple{}, NamedTuple{(), Tuple{}}})",
      "   @ HDF5 ~/.julia/packages/HDF5/Ws1wH/src/file.jl:75",
      " [6] h5open(filename::String, mode::String)",
      "   @ HDF5 ~/.julia/packages/HDF5/Ws1wH/src/file.jl:63",
      " [7] dmrg_1D_ising(L::Int64, J::Float64, maxbd::Int64, bc::String, save::Bool)",
      "   @ Main ./In[5]:33",
      " [8] top-level scope",
      "   @ In[6]:1"
     ]
    }
   ],
   "source": [
    "dmrg_1D_ising(10,-1.0,2,\"open\",true);"
   ]
  },
  {
   "cell_type": "markdown",
   "id": "a9f4c93d",
   "metadata": {},
   "source": [
    "# Transverse Field Ising Model"
   ]
  },
  {
   "cell_type": "code",
   "execution_count": 13,
   "id": "8a867562",
   "metadata": {},
   "outputs": [
    {
     "data": {
      "text/plain": [
       "dmrg_1D_tfim (generic function with 1 method)"
      ]
     },
     "execution_count": 13,
     "metadata": {},
     "output_type": "execute_result"
    }
   ],
   "source": [
    "function dmrg_1D_tfim(L::Int, J, h, maxbd::Int, bc::String, save::Bool)\n",
    "    \n",
    "    if bc == \"open\"\n",
    "        interactions = spinchain_open(L)\n",
    "    elseif bc == \"peri\"\n",
    "        interactions = spinchain_peri(L)\n",
    "    end\n",
    "    \n",
    "    sites = siteinds(\"S=1/2\",L)\n",
    "    println(\"\\nRunning DMRG for a length $L spin chain\\n\")\n",
    "    \n",
    "    # Build Hamiltonian\n",
    "    os = OpSum()\n",
    "    for k=1:ncol(interactions)\n",
    "        i = interactions[!,k][1][1]\n",
    "        j = interactions[!,k][1][2]\n",
    "        os += 4*J,\"Sz\",i,\"Sz\",j\n",
    "    end\n",
    "    for k=1:L\n",
    "        os += 2*h,\"Sx\",k\n",
    "    end\n",
    "    H = MPO(os,sites)\n",
    "\n",
    "    psi0 = randomMPS(sites, 40)\n",
    "\n",
    "    sweeps = Sweeps(10)\n",
    "    setmaxdim!(sweeps, 10,20,100,100,maxbd)\n",
    "    setmindim!(sweeps,maxbd)\n",
    "    setcutoff!(sweeps, 1E-10)\n",
    "\n",
    "    energy, psi = dmrg(H, psi0, sweeps, outputlevel=1)\n",
    "    energy_per_spin = energy / L\n",
    "    \n",
    "    println(\"\\nA sample from the optimized MPS looks like:\\n\",sample(psi))\n",
    "    \n",
    "    if save   \n",
    "        f = h5open(\"../out/ising_fm_1d_L$(L)_h1/chi$maxbd/init.hdf5\",\"w\") \n",
    "        write(f,\"psi\",psi)\n",
    "        close(f)\n",
    "    end\n",
    "    \n",
    "    println(\"\")\n",
    "    for i in 1:length(psi)\n",
    "        @show psi[i]\n",
    "    end\n",
    "    \n",
    "    return energy_per_spin\n",
    "end"
   ]
  },
  {
   "cell_type": "code",
   "execution_count": 14,
   "id": "b4629bd0",
   "metadata": {},
   "outputs": [
    {
     "name": "stdout",
     "output_type": "stream",
     "text": [
      "\n",
      "Running DMRG for a length 20 spin chain\n",
      "\n",
      "After sweep 1 energy=-25.096148256345923  maxlinkdim=10 maxerr=3.56E-03 time=0.050\n",
      "After sweep 2 energy=-25.10778212976226  maxlinkdim=17 maxerr=9.85E-11 time=0.046\n",
      "After sweep 3 energy=-25.107797084232878  maxlinkdim=14 maxerr=8.39E-11 time=0.027\n",
      "After sweep 4 energy=-25.107797108101682  maxlinkdim=10 maxerr=6.40E-11 time=0.037\n",
      "After sweep 5 energy=-25.067283655731565  maxlinkdim=2 maxerr=8.69E-04 time=0.020\n",
      "After sweep 6 energy=-25.068551096318153  maxlinkdim=2 maxerr=3.87E-04 time=0.031\n",
      "After sweep 7 energy=-25.06861588256404  maxlinkdim=2 maxerr=3.69E-04 time=0.021\n",
      "After sweep 8 energy=-25.06862006688664  maxlinkdim=2 maxerr=3.68E-04 time=0.040\n",
      "After sweep 9 energy=-25.06862034639098  maxlinkdim=2 maxerr=3.68E-04 time=0.020\n",
      "After sweep 10 energy=-25.06862036514857  maxlinkdim=2 maxerr=3.68E-04 time=0.022\n",
      "\n",
      "A sample from the optimized MPS looks like:\n",
      "[1, 1, 2, 2, 2, 2, 2, 2, 1, 1, 1, 1, 2, 2, 2, 2, 2, 2, 2, 2]\n",
      "\n",
      "psi[i] = ITensor ord=2\n",
      "Dim 1: (dim=2|id=411|\"Link,l=1\")\n",
      "Dim 2: (dim=2|id=679|\"S=1/2,Site,n=1\")\n",
      "NDTensors.Dense{Float64, Vector{Float64}}\n",
      " 2×2\n",
      "  0.6809378357422492   0.6809377213078717\n",
      " -0.19058786864068553  0.19058790066975914\n",
      "psi[i] = ITensor ord=3\n",
      "Dim 1: (dim=2|id=265|\"Link,l=2\")\n",
      "Dim 2: (dim=2|id=530|\"S=1/2,Site,n=2\")\n",
      "Dim 3: (dim=2|id=411|\"Link,l=1\")\n",
      "NDTensors.Dense{Float64, Vector{Float64}}\n",
      " 2×2×2\n",
      "[:, :, 1] =\n",
      " -0.6766075551438931   -0.6766073735200527\n",
      "  0.20543205637354883  -0.2054321022494645\n",
      "\n",
      "[:, :, 2] =\n",
      "  0.6082650817108313   -0.6082651704457742\n",
      " -0.36057381616585177  -0.36057398115987704\n",
      "psi[i] = ITensor ord=3\n",
      "Dim 1: (dim=2|id=224|\"S=1/2,Site,n=3\")\n",
      "Dim 2: (dim=2|id=640|\"Link,l=3\")\n",
      "Dim 3: (dim=2|id=265|\"Link,l=2\")\n",
      "NDTensors.Dense{Float64, Vector{Float64}}\n",
      " 2×2×2\n",
      "[:, :, 1] =\n",
      " 0.6751523305392453  -0.2101653539670768\n",
      " 0.6751520993487519   0.21016540463238076\n",
      "\n",
      "[:, :, 2] =\n",
      " -0.5907549589507428  0.38859803528850184\n",
      "  0.5907550664357741  0.3885982461688242\n",
      "psi[i] = ITensor ord=3\n",
      "Dim 1: (dim=2|id=642|\"S=1/2,Site,n=4\")\n",
      "Dim 2: (dim=2|id=235|\"Link,l=4\")\n",
      "Dim 3: (dim=2|id=640|\"Link,l=3\")\n",
      "NDTensors.Dense{Float64, Vector{Float64}}\n",
      " 2×2×2\n",
      "[:, :, 1] =\n",
      " -0.6744862803376974  -0.21229325731055448\n",
      " -0.6744860115691519   0.21229331297577364\n",
      "\n",
      "[:, :, 2] =\n",
      "  0.5822034287570566  0.401296645975147\n",
      " -0.5822035501399688  0.40129689218462894\n",
      "psi[i] = ITensor ord=3\n",
      "Dim 1: (dim=2|id=746|\"S=1/2,Site,n=5\")\n",
      "Dim 2: (dim=2|id=496|\"Link,l=5\")\n",
      "Dim 3: (dim=2|id=235|\"Link,l=4\")\n",
      "NDTensors.Dense{Float64, Vector{Float64}}\n",
      " 2×2×2\n",
      "[:, :, 1] =\n",
      " 0.6741403340848459  -0.2133893128553842\n",
      " 0.6741400350146014   0.21338937253197743\n",
      "\n",
      "[:, :, 2] =\n",
      "  0.577816089809456   -0.4075884903482228\n",
      " -0.5778162232511712  -0.40758876461541504\n",
      "psi[i] = ITensor ord=3\n",
      "Dim 1: (dim=2|id=923|\"S=1/2,Site,n=6\")\n",
      "Dim 2: (dim=2|id=771|\"Link,l=6\")\n",
      "Dim 3: (dim=2|id=496|\"Link,l=5\")\n",
      "NDTensors.Dense{Float64, Vector{Float64}}\n",
      " 2×2×2\n",
      "[:, :, 1] =\n",
      " -0.673953791530239   -0.2139777825867013\n",
      " -0.6739534680165529   0.213977845558259\n",
      "\n",
      "[:, :, 2] =\n",
      "  0.5754747360895112  0.4108876045230152\n",
      " -0.5754748797444327  0.41088790120320706\n",
      "psi[i] = ITensor ord=3\n",
      "Dim 1: (dim=2|id=881|\"S=1/2,Site,n=7\")\n",
      "Dim 2: (dim=2|id=616|\"Link,l=7\")\n",
      "Dim 3: (dim=2|id=771|\"Link,l=6\")\n",
      "NDTensors.Dense{Float64, Vector{Float64}}\n",
      " 2×2×2\n",
      "[:, :, 1] =\n",
      " 0.6738533395493138  -0.2142939425252781\n",
      " 0.6738529966179705   0.21429400813879954\n",
      "\n",
      "[:, :, 2] =\n",
      "  0.5742046803019418  -0.4126605967144985\n",
      " -0.5742048323742228  -0.4126609110597573\n",
      "psi[i] = ITensor ord=3\n",
      "Dim 1: (dim=2|id=409|\"S=1/2,Site,n=8\")\n",
      "Dim 2: (dim=2|id=492|\"Link,l=8\")\n",
      "Dim 3: (dim=2|id=616|\"Link,l=7\")\n",
      "NDTensors.Dense{Float64, Vector{Float64}}\n",
      " 2×2×2\n",
      "[:, :, 1] =\n",
      " -0.6738023677656868  -0.21445418107411274\n",
      " -0.6738020099676286   0.21445424867968824\n",
      "\n",
      "[:, :, 2] =\n",
      "  0.5735248306632417  0.41360493470478843\n",
      " -0.5735249893960461  0.4136052624650861\n",
      "psi[i] = ITensor ord=3\n",
      "Dim 1: (dim=2|id=99|\"S=1/2,Site,n=9\")\n",
      "Dim 2: (dim=2|id=421|\"Link,l=9\")\n",
      "Dim 3: (dim=2|id=492|\"Link,l=8\")\n",
      "NDTensors.Dense{Float64, Vector{Float64}}\n",
      " 2×2×2\n",
      "[:, :, 1] =\n",
      " 0.673782961815943   -0.21451515979758862\n",
      " 0.6737825934424392   0.2145152287310419\n",
      "\n",
      "[:, :, 2] =\n",
      "  0.573191090824788   -0.41406731333115043\n",
      " -0.5731912544865683  -0.41406765052335\n",
      "psi[i] = ITensor ord=3\n",
      "Dim 1: (dim=2|id=478|\"S=1/2,Site,n=10\")\n",
      "Dim 2: (dim=2|id=962|\"Link,l=10\")\n",
      "Dim 3: (dim=2|id=421|\"Link,l=9\")\n",
      "NDTensors.Dense{Float64, Vector{Float64}}\n",
      " 2×2×2\n",
      "[:, :, 1] =\n",
      " -0.6737883830336661  -0.21449814100244413\n",
      " -0.6737880082431517   0.21449821058251167\n",
      "\n",
      "[:, :, 2] =\n",
      "  0.5730869209810181  0.4142114718149192\n",
      " -0.5730870878628646  0.41421181458557704\n",
      "psi[i] = ITensor ord=3\n",
      "Dim 1: (dim=2|id=128|\"S=1/2,Site,n=11\")\n",
      "Dim 2: (dim=2|id=968|\"Link,l=11\")\n",
      "Dim 3: (dim=2|id=962|\"Link,l=10\")\n",
      "NDTensors.Dense{Float64, Vector{Float64}}\n",
      " 2×2×2\n",
      "[:, :, 1] =\n",
      " 0.6738203908137097  -0.21439757488943623\n",
      " 0.6738200137076628   0.21439764441847992\n",
      "\n",
      "[:, :, 2] =\n",
      "  0.5731761686351478  -0.41408796227594563\n",
      " -0.5731763370614407  -0.4140883068135561\n",
      "psi[i] = ITensor ord=3\n",
      "Dim 1: (dim=2|id=988|\"S=1/2,Site,n=12\")\n",
      "Dim 2: (dim=2|id=258|\"Link,l=12\")\n",
      "Dim 3: (dim=2|id=968|\"Link,l=11\")\n",
      "NDTensors.Dense{Float64, Vector{Float64}}\n",
      " 2×2×2\n",
      "[:, :, 1] =\n",
      " -0.6738897615857538  -0.21417942811803425\n",
      " -0.6738893862622937   0.2141794968804365\n",
      "\n",
      "[:, :, 2] =\n",
      "  0.5734888000054886  0.41365487795736144\n",
      " -0.573488968358303   0.41365522042115516\n",
      "psi[i] = ITensor ord=3\n",
      "Dim 1: (dim=2|id=293|\"S=1/2,Site,n=13\")\n",
      "Dim 2: (dim=2|id=964|\"Link,l=13\")\n",
      "Dim 3: (dim=2|id=258|\"Link,l=12\")\n",
      "NDTensors.Dense{Float64, Vector{Float64}}\n",
      " 2×2×2\n",
      "[:, :, 1] =\n",
      " 0.6740200638663588  -0.21376900641655538\n",
      " 0.6740196944775498   0.2137690736698325\n",
      "\n",
      "[:, :, 2] =\n",
      "  0.5741312715508412  -0.4127627023100193\n",
      " -0.574131438309656   -0.4127630387445448\n",
      "psi[i] = ITensor ord=3\n",
      "Dim 1: (dim=2|id=124|\"S=1/2,Site,n=14\")\n",
      "Dim 2: (dim=2|id=773|\"Link,l=14\")\n",
      "Dim 3: (dim=2|id=964|\"Link,l=13\")\n",
      "NDTensors.Dense{Float64, Vector{Float64}}\n",
      " 2×2×2\n",
      "[:, :, 1] =\n",
      " -0.6742562323850874  -0.21302291289427833\n",
      " -0.6742558732271897   0.21302297784639096\n",
      "\n",
      "[:, :, 2] =\n",
      "  0.5753255837775108  0.4110963929706164\n",
      " -0.5753257475779388  0.41109671916898227\n",
      "psi[i] = ITensor ord=3\n",
      "Dim 1: (dim=2|id=997|\"S=1/2,Site,n=15\")\n",
      "Dim 2: (dim=2|id=690|\"Link,l=15\")\n",
      "Dim 3: (dim=2|id=773|\"Link,l=14\")\n",
      "NDTensors.Dense{Float64, Vector{Float64}}\n",
      " 2×2×2\n",
      "[:, :, 1] =\n",
      " 0.6746819455192355  -0.21167071508743596\n",
      " 0.6746816011959637   0.2116707768502854\n",
      "\n",
      "[:, :, 2] =\n",
      "  0.5774956163446613  -0.40804239223253935\n",
      " -0.5774957760622441  -0.4080427034932894\n",
      "psi[i] = ITensor ord=3\n",
      "Dim 1: (dim=2|id=563|\"S=1/2,Site,n=16\")\n",
      "Dim 2: (dim=2|id=989|\"Link,l=16\")\n",
      "Dim 3: (dim=2|id=690|\"Link,l=15\")\n",
      "NDTensors.Dense{Float64, Vector{Float64}}\n",
      " 2×2×2\n",
      "[:, :, 1] =\n",
      " -0.6754556544997984  -0.20918858910350568\n",
      " -0.6754553302211203   0.20918864660638647\n",
      "\n",
      "[:, :, 2] =\n",
      "  0.5814496200396329  0.40238803702554976\n",
      " -0.5814497749068084  0.40238832770759364\n",
      "psi[i] = ITensor ord=3\n",
      "Dim 1: (dim=2|id=569|\"S=1/2,Site,n=17\")\n",
      "Dim 2: (dim=2|id=764|\"Link,l=17\")\n",
      "Dim 3: (dim=2|id=989|\"Link,l=16\")\n",
      "NDTensors.Dense{Float64, Vector{Float64}}\n",
      " 2×2×2\n",
      "[:, :, 1] =\n",
      " 0.6768927238189026  -0.2044906635307404\n",
      " 0.6768924259426794   0.20449071536678365\n",
      "\n",
      "[:, :, 2] =\n",
      "  0.5887924798802844  -0.3915650962480096\n",
      " -0.5887926296446413  -0.3915653589285708\n",
      "psi[i] = ITensor ord=3\n",
      "Dim 1: (dim=2|id=294|\"S=1/2,Site,n=18\")\n",
      "Dim 2: (dim=2|id=223|\"Link,l=18\")\n",
      "Dim 3: (dim=2|id=764|\"Link,l=17\")\n",
      "NDTensors.Dense{Float64, Vector{Float64}}\n",
      " 2×2×2\n",
      "[:, :, 1] =\n",
      " -0.679691228777913   -0.19498718843159923\n",
      " -0.6796909658085364   0.1949872325773409\n",
      "\n",
      "[:, :, 2] =\n",
      "  0.6029956978623079  0.36931831558224637\n",
      " -0.6029958429932811  0.36931853929617847\n",
      "psi[i] = ITensor ord=3\n",
      "Dim 1: (dim=2|id=760|\"S=1/2,Site,n=19\")\n",
      "Dim 2: (dim=2|id=280|\"Link,l=19\")\n",
      "Dim 3: (dim=2|id=223|\"Link,l=18\")\n",
      "NDTensors.Dense{Float64, Vector{Float64}}\n",
      " 2×2×2\n",
      "[:, :, 1] =\n",
      " 0.685835739745622   -0.17213215869467846\n",
      " 0.6858355245016877   0.1721321915336582\n",
      "\n",
      "[:, :, 2] =\n",
      "  0.6328432286509568  -0.31545095653476274\n",
      " -0.6328433707509706  -0.31545112152041105\n",
      "psi[i] = ITensor ord=2\n",
      "Dim 1: (dim=2|id=243|\"S=1/2,Site,n=20\")\n",
      "Dim 2: (dim=2|id=280|\"Link,l=19\")\n",
      "NDTensors.Dense{Float64, Vector{Float64}}\n",
      " 2×2\n",
      " -0.7071068522177384   0.7071067101553495\n",
      " -0.7071067101553495  -0.7071068522177384\n"
     ]
    },
    {
     "data": {
      "text/plain": [
       "-1.2534310182574284"
      ]
     },
     "execution_count": 14,
     "metadata": {},
     "output_type": "execute_result"
    }
   ],
   "source": [
    "dmrg_1D_tfim(20,-1.,-1.,2,\"open\",true)"
   ]
  },
  {
   "cell_type": "markdown",
   "id": "f1f4b296",
   "metadata": {},
   "source": [
    "# Heisenberg Model"
   ]
  },
  {
   "cell_type": "code",
   "execution_count": 18,
   "id": "94ac95a2",
   "metadata": {},
   "outputs": [
    {
     "data": {
      "text/plain": [
       "dmrg_1D_heis (generic function with 1 method)"
      ]
     },
     "execution_count": 18,
     "metadata": {},
     "output_type": "execute_result"
    }
   ],
   "source": [
    "function dmrg_1D_heis(L::Int, J, maxbd::Int, bc::String, save::Bool)\n",
    "    \n",
    "    if bc == \"open\"\n",
    "        interactions = spinchain_open(L)\n",
    "    elseif bc == \"peri\"\n",
    "        interactions = spinchain_peri(L)\n",
    "    end\n",
    "    \n",
    "    sites = siteinds(\"S=1/2\",L)\n",
    "    println(\"\\nRunning DMRG for a length $L spin chain\\n\")\n",
    "    \n",
    "    # Build Hamiltonian\n",
    "    os = OpSum()\n",
    "    for k=1:ncol(interactions)\n",
    "        i = interactions[!,k][1][1]\n",
    "        j = interactions[!,k][1][2]\n",
    "    os += 4*J,\"Sz\",j,\"Sz\",k\n",
    "    os += 4*J/2,\"S+\",j,\"S-\",k\n",
    "    os += 4*J/2,\"S-\",j,\"S+\",k\n",
    "    end\n",
    "    H = MPO(os,sites)\n",
    "\n",
    "    psi0 = randomMPS(sites, 40)\n",
    "\n",
    "    sweeps = Sweeps(10)\n",
    "    setmaxdim!(sweeps, 10,20,100,100,maxbd)\n",
    "    setcutoff!(sweeps, 1E-10)\n",
    "\n",
    "    energy, psi = dmrg(H, psi0, sweeps, outputlevel=1)\n",
    "    energy_per_spin = energy / L\n",
    "    \n",
    "    println(\"\\nA sample from the optimized MPS looks like:\\n\",sample(psi))\n",
    "    \n",
    "    if save   \n",
    "        f = h5open(\"../out/heis_afm_1d_L$(L)/init.hdf5\",\"w\") \n",
    "        write(f,\"psi\",psi)\n",
    "        close(f)\n",
    "    end\n",
    "        \n",
    "    return energy_per_spin\n",
    "end"
   ]
  },
  {
   "cell_type": "code",
   "execution_count": 22,
   "id": "176d2cc0",
   "metadata": {
    "scrolled": false
   },
   "outputs": [
    {
     "name": "stdout",
     "output_type": "stream",
     "text": [
      "\n",
      "Running DMRG for a length 20 spin chain\n",
      "\n",
      "After sweep 1 energy=-34.682752881614775  maxlinkdim=10 maxerr=3.82E-03 time=0.056\n",
      "After sweep 2 energy=-34.729858024171946  maxlinkdim=20 maxerr=8.63E-08 time=0.054\n",
      "After sweep 3 energy=-34.729893326088515  maxlinkdim=39 maxerr=9.70E-11 time=0.151\n",
      "After sweep 4 energy=-34.72989332364747  maxlinkdim=39 maxerr=9.99E-11 time=0.196\n",
      "After sweep 5 energy=-34.643808881300146  maxlinkdim=5 maxerr=1.50E-03 time=0.032\n",
      "After sweep 6 energy=-34.64444844437751  maxlinkdim=5 maxerr=8.97E-04 time=0.022\n",
      "After sweep 7 energy=-34.644543173387035  maxlinkdim=5 maxerr=8.84E-04 time=0.033\n",
      "After sweep 8 energy=-34.644563744742705  maxlinkdim=5 maxerr=8.80E-04 time=0.021\n",
      "After sweep 9 energy=-34.64456875308565  maxlinkdim=5 maxerr=8.80E-04 time=0.037\n",
      "After sweep 10 energy=-34.64457001072666  maxlinkdim=5 maxerr=8.79E-04 time=0.026\n",
      "\n",
      "A sample from the optimized MPS looks like:\n",
      "[2, 1, 2, 1, 2, 1, 2, 1, 1, 2, 2, 1, 2, 1, 2, 1, 2, 1, 1, 2]\n"
     ]
    },
    {
     "data": {
      "text/plain": [
       "-1.732228500536333"
      ]
     },
     "execution_count": 22,
     "metadata": {},
     "output_type": "execute_result"
    }
   ],
   "source": [
    "dmrg_1D_heis(20,1.,5,\"open\",true)"
   ]
  },
  {
   "cell_type": "markdown",
   "id": "f4c40e96",
   "metadata": {},
   "source": [
    "# J1-J2 Model?"
   ]
  },
  {
   "cell_type": "markdown",
   "id": "0483db9a",
   "metadata": {},
   "source": [
    "work on this later..."
   ]
  },
  {
   "cell_type": "code",
   "execution_count": 89,
   "id": "98b1e0a5",
   "metadata": {},
   "outputs": [
    {
     "data": {
      "text/plain": [
       "spinchain_J1J2 (generic function with 2 methods)"
      ]
     },
     "execution_count": 89,
     "metadata": {},
     "output_type": "execute_result"
    }
   ],
   "source": [
    "function spinchain_J1J2(L::Int,j1::Float64,j2::Float64)\n",
    "    \n",
    "    interactions = DataFrame([\"$spin\"=>[] for spin in 1:L-1])\n",
    "    \n",
    "    for spin in 1:L-1\n",
    "        nneighbor = spin+1\n",
    "        push!(interactions[!,\"$spin\"],[spin,nneighbor,j1])\n",
    "    end\n",
    "\n",
    "    for spin in 1:L-2\n",
    "        nnneighbor = spin+1\n",
    "        push!(interactions[!,\"$spin\"],[spin,nnneighbor,j2])\n",
    "    end\n",
    "\n",
    "    return interactions\n",
    "end"
   ]
  },
  {
   "cell_type": "code",
   "execution_count": 90,
   "id": "1b1a37a5",
   "metadata": {},
   "outputs": [
    {
     "ename": "AssertionError",
     "evalue": "AssertionError: Data frame is corrupt: length of column :9 (2) does not match length of column 1 (3). The column vector has likely been resized unintentionally (either directly or because it is shared with another data frame).",
     "output_type": "error",
     "traceback": [
      "AssertionError: Data frame is corrupt: length of column :9 (2) does not match length of column 1 (3). The column vector has likely been resized unintentionally (either directly or because it is shared with another data frame).",
      "",
      "Stacktrace:",
      "  [1] _check_consistency(df::DataFrame)",
      "    @ DataFrames ~/.julia/packages/DataFrames/58MUJ/src/dataframe/dataframe.jl:492",
      "  [2] _show(io::IOContext{IOBuffer}, df::DataFrame; allrows::Bool, allcols::Bool, rowlabel::Symbol, summary::Bool, eltypes::Bool, rowid::Nothing, truncate::Int64, kwargs::Base.Pairs{Symbol, Union{}, Tuple{}, NamedTuple{(), Tuple{}}})",
      "    @ DataFrames ~/.julia/packages/DataFrames/58MUJ/src/abstractdataframe/show.jl:158",
      "  [3] _show",
      "    @ ~/.julia/packages/DataFrames/58MUJ/src/abstractdataframe/show.jl:147 [inlined]",
      "  [4] #show#849",
      "    @ ~/.julia/packages/DataFrames/58MUJ/src/abstractdataframe/show.jl:352 [inlined]",
      "  [5] show(io::IOContext{IOBuffer}, df::DataFrame)",
      "    @ DataFrames ~/.julia/packages/DataFrames/58MUJ/src/abstractdataframe/show.jl:339",
      "  [6] #show#875",
      "    @ ~/.julia/packages/DataFrames/58MUJ/src/abstractdataframe/io.jl:150 [inlined]",
      "  [7] show",
      "    @ ~/.julia/packages/DataFrames/58MUJ/src/abstractdataframe/io.jl:150 [inlined]",
      "  [8] limitstringmime(mime::MIME{Symbol(\"text/plain\")}, x::DataFrame, forcetext::Bool)",
      "    @ IJulia ~/.julia/packages/IJulia/Vo51o/src/inline.jl:43",
      "  [9] limitstringmime",
      "    @ ~/.julia/packages/IJulia/Vo51o/src/inline.jl:38 [inlined]",
      " [10] display_mimestring",
      "    @ ~/.julia/packages/IJulia/Vo51o/src/display.jl:71 [inlined]",
      " [11] display_dict(x::DataFrame)",
      "    @ IJulia ~/.julia/packages/IJulia/Vo51o/src/display.jl:102",
      " [12] #invokelatest#2",
      "    @ ./essentials.jl:819 [inlined]",
      " [13] invokelatest",
      "    @ ./essentials.jl:816 [inlined]",
      " [14] execute_request(socket::ZMQ.Socket, msg::Msg)",
      "    @ IJulia ~/.julia/packages/IJulia/Vo51o/src/execute_request.jl:112",
      " [15] #invokelatest#2",
      "    @ ./essentials.jl:819 [inlined]",
      " [16] invokelatest",
      "    @ ./essentials.jl:816 [inlined]",
      " [17] eventloop(socket::ZMQ.Socket)",
      "    @ IJulia ~/.julia/packages/IJulia/Vo51o/src/eventloop.jl:8",
      " [18] (::IJulia.var\"#15#18\")()",
      "    @ IJulia ./task.jl:514"
     ]
    }
   ],
   "source": [
    "spinchain_J1J2(10,1.,2.)"
   ]
  },
  {
   "cell_type": "code",
   "execution_count": null,
   "id": "9efe783f",
   "metadata": {},
   "outputs": [],
   "source": []
  }
 ],
 "metadata": {
  "kernelspec": {
   "display_name": "Julia 1.9.3",
   "language": "julia",
   "name": "julia-1.9"
  },
  "language_info": {
   "file_extension": ".jl",
   "mimetype": "application/julia",
   "name": "julia",
   "version": "1.9.3"
  }
 },
 "nbformat": 4,
 "nbformat_minor": 5
}
