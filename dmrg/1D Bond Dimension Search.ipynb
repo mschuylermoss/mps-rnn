{
 "cells": [
  {
   "cell_type": "code",
   "execution_count": 1,
   "id": "a3034a5f",
   "metadata": {},
   "outputs": [
    {
     "name": "stderr",
     "output_type": "stream",
     "text": [
      "\u001b[36m\u001b[1m[ \u001b[22m\u001b[39m\u001b[36m\u001b[1mInfo: \u001b[22m\u001b[39mInstalling julia_ITensors kernelspec in /Users/mschuylerm/Library/Jupyter/kernels/julia_itensors-1.9\n"
     ]
    },
    {
     "data": {
      "text/plain": [
       "\"/Users/mschuylerm/Library/Jupyter/kernels/julia_itensors-1.9\""
      ]
     },
     "execution_count": 1,
     "metadata": {},
     "output_type": "execute_result"
    }
   ],
   "source": [
    "using IJulia\n",
    "installkernel(\"julia_ITensors\",\"--sysimage=~/.julia/sysimages/sys_itensors.so\")"
   ]
  },
  {
   "cell_type": "code",
   "execution_count": 54,
   "id": "1dd0ee7b",
   "metadata": {},
   "outputs": [],
   "source": [
    "using ITensors\n",
    "using ITensors.HDF5\n",
    "using DataFrames\n",
    "using Plots\n",
    "using CSV"
   ]
  },
  {
   "cell_type": "code",
   "execution_count": 9,
   "id": "ad4cf1cd",
   "metadata": {},
   "outputs": [],
   "source": [
    "include(\"geometries.jl\");\n",
    "include(\"models.jl\");"
   ]
  },
  {
   "cell_type": "code",
   "execution_count": 10,
   "id": "199ff72a",
   "metadata": {},
   "outputs": [
    {
     "data": {
      "text/plain": [
       "run_dmrg_1d (generic function with 1 method)"
      ]
     },
     "execution_count": 10,
     "metadata": {},
     "output_type": "execute_result"
    }
   ],
   "source": [
    "function run_dmrg_1d(H, psi0, L::Int, maxbd::Int)\n",
    "\n",
    "    println(\"\\nRunning DMRG for a length $L spin chain\\n\")\n",
    "    sweeps = Sweeps(10)\n",
    "    setmaxdim!(sweeps, 10,20,100,100,maxbd)\n",
    "    setcutoff!(sweeps, 1E-10)\n",
    "\n",
    "    energy, psi = dmrg(H, psi0, sweeps, outputlevel=1)\n",
    "    energy_per_spin = energy / L\n",
    "\n",
    "    return energy_per_spin\n",
    "end"
   ]
  },
  {
   "cell_type": "markdown",
   "id": "bdbfd150",
   "metadata": {},
   "source": [
    "# TFIM"
   ]
  },
  {
   "cell_type": "code",
   "execution_count": 61,
   "id": "8ee03b3b",
   "metadata": {
    "scrolled": true
   },
   "outputs": [
    {
     "name": "stdout",
     "output_type": "stream",
     "text": [
      "[2, 4, 8, 16, 32, 64, 128, 256]\n",
      "Running DMRG for a length 20 spin chain\n",
      "\n",
      "After sweep 1 energy=-25.098955786834814  maxlinkdim=10 maxerr=2.84E-03 time=0.041\n",
      "After sweep 2 energy=-25.107784032562556  maxlinkdim=17 maxerr=9.49E-11 time=0.036\n",
      "After sweep 3 energy=-25.107797093566607  maxlinkdim=11 maxerr=9.36E-11 time=0.024\n",
      "After sweep 4 energy=-25.107797108115392  maxlinkdim=10 maxerr=9.08E-11 time=0.032\n",
      "After sweep 5 energy=-25.06728365517852  maxlinkdim=2 maxerr=8.69E-04 time=0.018\n",
      "After sweep 6 energy=-25.068551096291593  maxlinkdim=2 maxerr=3.87E-04 time=0.032\n",
      "After sweep 7 energy=-25.068615882562238  maxlinkdim=2 maxerr=3.69E-04 time=0.017\n",
      "After sweep 8 energy=-25.068620066886506  maxlinkdim=2 maxerr=3.68E-04 time=0.021\n",
      "After sweep 9 energy=-25.068620346390922  maxlinkdim=2 maxerr=3.68E-04 time=0.034\n",
      "After sweep 10 energy=-25.0686203651486  maxlinkdim=2 maxerr=3.68E-04 time=0.020\n",
      "\n",
      "Running DMRG for a length 20 spin chain\n",
      "\n",
      "After sweep 1 energy=-25.061039656116208  maxlinkdim=10 maxerr=2.28E-03 time=0.036\n",
      "After sweep 2 energy=-25.10335379416157  maxlinkdim=20 maxerr=2.30E-10 time=0.037\n",
      "After sweep 3 energy=-25.107626722974114  maxlinkdim=20 maxerr=9.88E-11 time=0.045\n",
      "After sweep 4 energy=-25.107794165985194  maxlinkdim=17 maxerr=8.80E-11 time=0.027\n",
      "After sweep 5 energy=-25.1075676687899  maxlinkdim=4 maxerr=7.18E-06 time=0.029\n",
      "After sweep 6 energy=-25.107569634970872  maxlinkdim=4 maxerr=3.92E-06 time=0.018\n",
      "After sweep 7 energy=-25.10756968746628  maxlinkdim=4 maxerr=3.89E-06 time=0.031\n",
      "After sweep 8 energy=-25.107569689551216  maxlinkdim=4 maxerr=3.89E-06 time=0.017\n",
      "After sweep 9 energy=-25.107569689639266  maxlinkdim=4 maxerr=3.89E-06 time=0.020\n",
      "After sweep 10 energy=-25.10756968964325  maxlinkdim=4 maxerr=3.89E-06 time=0.031\n",
      "\n",
      "Running DMRG for a length 20 spin chain\n",
      "\n",
      "After sweep 1 energy=-25.048739902816386  maxlinkdim=10 maxerr=2.30E-03 time=0.039\n",
      "After sweep 2 energy=-25.100184803398445  maxlinkdim=20 maxerr=7.38E-10 time=0.038\n",
      "After sweep 3 energy=-25.107444986005326  maxlinkdim=23 maxerr=9.83E-11 time=0.052\n",
      "After sweep 4 energy=-25.10779489154658  maxlinkdim=16 maxerr=8.94E-11 time=0.032\n",
      "After sweep 5 energy=-25.107796746880027  maxlinkdim=8 maxerr=7.67E-09 time=0.032\n",
      "After sweep 6 energy=-25.10779674926457  maxlinkdim=8 maxerr=6.29E-09 time=0.021\n",
      "After sweep 7 energy=-25.107796749281597  maxlinkdim=8 maxerr=6.29E-09 time=0.034\n",
      "After sweep 8 energy=-25.107796749282194  maxlinkdim=8 maxerr=6.29E-09 time=0.020\n",
      "After sweep 9 energy=-25.107796749282286  maxlinkdim=8 maxerr=6.29E-09 time=0.033\n",
      "After sweep 10 energy=-25.107796749282222  maxlinkdim=8 maxerr=6.29E-09 time=0.027\n",
      "\n",
      "Running DMRG for a length 20 spin chain\n",
      "\n",
      "After sweep 1 energy=-25.097914095743505  maxlinkdim=10 maxerr=2.54E-03 time=0.037\n",
      "After sweep 2 energy=-25.107524187999264  maxlinkdim=18 maxerr=9.84E-11 time=0.035\n",
      "After sweep 3 energy=-25.10779352896765  maxlinkdim=17 maxerr=9.65E-11 time=0.035\n",
      "After sweep 4 energy=-25.10779710432389  maxlinkdim=13 maxerr=9.77E-11 time=0.022\n",
      "After sweep 5 energy=-25.107797108124895  maxlinkdim=10 maxerr=6.26E-11 time=0.030\n",
      "After sweep 6 energy=-25.107797108137927  maxlinkdim=10 maxerr=5.35E-11 time=0.021\n",
      "After sweep 7 energy=-25.107797108138  maxlinkdim=10 maxerr=5.34E-11 time=0.032\n",
      "After sweep 8 energy=-25.107797108138  maxlinkdim=10 maxerr=5.34E-11 time=0.024\n",
      "After sweep 9 energy=-25.107797108138044  maxlinkdim=10 maxerr=5.34E-11 time=0.033\n",
      "After sweep 10 energy=-25.107797108138012  maxlinkdim=10 maxerr=5.34E-11 time=0.023\n",
      "\n",
      "Running DMRG for a length 20 spin chain\n",
      "\n",
      "After sweep 1 energy=-25.02981457797086  maxlinkdim=10 maxerr=2.26E-03 time=0.028\n",
      "After sweep 2 energy=-25.08709396543658  maxlinkdim=20 maxerr=1.87E-09 time=0.041\n",
      "After sweep 3 energy=-25.105915950034493  maxlinkdim=32 maxerr=9.38E-11 time=0.061\n",
      "After sweep 4 energy=-25.107741208553453  maxlinkdim=28 maxerr=9.66E-11 time=0.068\n",
      "After sweep 5 energy=-25.10779659971297  maxlinkdim=17 maxerr=9.04E-11 time=0.043\n",
      "After sweep 6 energy=-25.107797107965528  maxlinkdim=10 maxerr=9.13E-11 time=0.033\n",
      "After sweep 7 energy=-25.107797108136946  maxlinkdim=10 maxerr=5.38E-11 time=0.021\n",
      "After sweep 8 energy=-25.107797108138044  maxlinkdim=10 maxerr=5.34E-11 time=0.031\n",
      "After sweep 9 energy=-25.10779710813799  maxlinkdim=10 maxerr=5.34E-11 time=0.022\n",
      "After sweep 10 energy=-25.107797108138044  maxlinkdim=10 maxerr=5.34E-11 time=0.033\n",
      "\n",
      "Running DMRG for a length 20 spin chain\n",
      "\n",
      "After sweep 1 energy=-25.096337155790877  maxlinkdim=10 maxerr=2.24E-03 time=0.037\n",
      "After sweep 2 energy=-25.10728369274354  maxlinkdim=20 maxerr=9.58E-11 time=0.034\n",
      "After sweep 3 energy=-25.10778683633965  maxlinkdim=17 maxerr=9.84E-11 time=0.030\n",
      "After sweep 4 energy=-25.107797040304078  maxlinkdim=14 maxerr=9.67E-11 time=0.032\n",
      "After sweep 5 energy=-25.10779710811352  maxlinkdim=10 maxerr=6.25E-11 time=0.031\n",
      "After sweep 6 energy=-25.107797108137895  maxlinkdim=10 maxerr=5.35E-11 time=0.022\n",
      "After sweep 7 energy=-25.10779710813805  maxlinkdim=10 maxerr=5.34E-11 time=0.033\n",
      "After sweep 8 energy=-25.10779710813805  maxlinkdim=10 maxerr=5.34E-11 time=0.022\n",
      "After sweep 9 energy=-25.107797108138016  maxlinkdim=10 maxerr=5.34E-11 time=0.036\n",
      "After sweep 10 energy=-25.107797108138065  maxlinkdim=10 maxerr=5.34E-11 time=0.027\n",
      "\n",
      "Running DMRG for a length 20 spin chain\n",
      "\n",
      "After sweep 1 energy=-25.072994785079764  maxlinkdim=10 maxerr=3.52E-03 time=0.028\n",
      "After sweep 2 energy=-25.10594539166249  maxlinkdim=20 maxerr=9.37E-11 time=0.035\n",
      "After sweep 3 energy=-25.107764589914453  maxlinkdim=19 maxerr=9.46E-11 time=0.039\n",
      "After sweep 4 energy=-25.107796997164577  maxlinkdim=14 maxerr=9.94E-11 time=0.024\n",
      "After sweep 5 energy=-25.107797107956678  maxlinkdim=10 maxerr=5.78E-11 time=0.030\n",
      "After sweep 6 energy=-25.10779710813732  maxlinkdim=10 maxerr=5.37E-11 time=0.020\n",
      "After sweep 7 energy=-25.107797108137976  maxlinkdim=10 maxerr=5.34E-11 time=0.031\n",
      "After sweep 8 energy=-25.10779710813802  maxlinkdim=10 maxerr=5.34E-11 time=0.021\n",
      "After sweep 9 energy=-25.107797108138023  maxlinkdim=10 maxerr=5.34E-11 time=0.037\n",
      "After sweep 10 energy=-25.107797108137998  maxlinkdim=10 maxerr=5.34E-11 time=0.038\n",
      "\n",
      "Running DMRG for a length 20 spin chain\n",
      "\n",
      "After sweep 1 energy=-25.077766355209555  maxlinkdim=10 maxerr=3.13E-03 time=0.028\n",
      "After sweep 2 energy=-25.106306704557287  maxlinkdim=20 maxerr=4.30E-10 time=0.040\n",
      "After sweep 3 energy=-25.107758183847807  maxlinkdim=20 maxerr=9.97E-11 time=0.042\n",
      "After sweep 4 energy=-25.107796699490578  maxlinkdim=16 maxerr=9.73E-11 time=0.034\n",
      "After sweep 5 energy=-25.10779710780039  maxlinkdim=10 maxerr=9.74E-11 time=0.021\n",
      "After sweep 6 energy=-25.107797108136815  maxlinkdim=10 maxerr=5.39E-11 time=0.031\n",
      "After sweep 7 energy=-25.107797108138  maxlinkdim=10 maxerr=5.34E-11 time=0.021\n",
      "After sweep 8 energy=-25.107797108138037  maxlinkdim=10 maxerr=5.34E-11 time=0.031\n",
      "After sweep 9 energy=-25.107797108138  maxlinkdim=10 maxerr=5.34E-11 time=0.023\n",
      "After sweep 10 energy=-25.107797108138044  maxlinkdim=10 maxerr=5.34E-11 time=0.035\n"
     ]
    },
    {
     "data": {
      "text/plain": [
       "\"tfim_L20.csv\""
      ]
     },
     "execution_count": 61,
     "metadata": {},
     "output_type": "execute_result"
    }
   ],
   "source": [
    "L = 20\n",
    "powers = collect(1:8)\n",
    "bds = 2 .^ powers\n",
    "print(bds)\n",
    "\n",
    "energies = DataFrame([\"bonddims\"=>[],\"energies\"=>[]])\n",
    "\n",
    "for bd in bds\n",
    "    interactions = spinchain_open(L)\n",
    "    H, psi0 = get_tfim_1d(L,-1.,1.,interactions)\n",
    "    e = run_dmrg_1d(H,psi0,L,bd)\n",
    "    push!(energies[!,\"bonddims\"],bd)\n",
    "    push!(energies[!,\"energies\"],e)\n",
    "end\n",
    "\n",
    "CSV.write(\"tfim_L$(L).csv\", energies)"
   ]
  },
  {
   "cell_type": "markdown",
   "id": "72ec67df",
   "metadata": {},
   "source": [
    "# Heisenberg Model"
   ]
  },
  {
   "cell_type": "code",
   "execution_count": 66,
   "id": "f218bc1d",
   "metadata": {},
   "outputs": [
    {
     "name": "stdout",
     "output_type": "stream",
     "text": [
      "[2, 4, 8, 16, 32, 64, 128, 256]\n",
      "Running DMRG for a length 200 spin chain\n",
      "\n",
      "After sweep 1 energy=-353.4731163338806  maxlinkdim=10 maxerr=7.44E-03 time=0.636\n",
      "After sweep 2 energy=-353.71777996447315  maxlinkdim=20 maxerr=2.11E-06 time=0.689\n",
      "After sweep 3 energy=-353.76231141878503  maxlinkdim=77 maxerr=9.99E-11 time=4.342\n",
      "After sweep 4 energy=-353.7659460222328  maxlinkdim=100 maxerr=6.38E-10 time=13.165\n",
      "After sweep 5 energy=-340.9253046237667  maxlinkdim=2 maxerr=6.55E-02 time=0.620\n",
      "After sweep 6 energy=-341.0106992946328  maxlinkdim=2 maxerr=2.16E-02 time=0.311\n",
      "After sweep 7 energy=-341.0119932926741  maxlinkdim=2 maxerr=1.88E-02 time=0.299\n",
      "After sweep 8 energy=-341.012039254148  maxlinkdim=2 maxerr=1.88E-02 time=0.301\n",
      "After sweep 9 energy=-341.0120412415638  maxlinkdim=2 maxerr=1.88E-02 time=0.299\n",
      "After sweep 10 energy=-341.0120413358481  maxlinkdim=2 maxerr=1.88E-02 time=0.293\n",
      "\n",
      "Running DMRG for a length 200 spin chain\n",
      "\n",
      "After sweep 1 energy=-353.5618150185507  maxlinkdim=10 maxerr=7.05E-03 time=0.778\n",
      "After sweep 2 energy=-353.7320571090935  maxlinkdim=20 maxerr=2.05E-06 time=0.847\n",
      "After sweep 3 energy=-353.76413415091554  maxlinkdim=78 maxerr=9.99E-11 time=5.099\n",
      "After sweep 4 energy=-353.766119851284  maxlinkdim=100 maxerr=7.11E-10 time=13.141\n",
      "After sweep 5 energy=-351.6284458561344  maxlinkdim=4 maxerr=3.34E-03 time=0.692\n",
      "After sweep 6 energy=-351.62886193646676  maxlinkdim=4 maxerr=1.23E-03 time=0.310\n",
      "After sweep 7 energy=-351.62886233620134  maxlinkdim=4 maxerr=1.22E-03 time=0.312\n",
      "After sweep 8 energy=-351.62886260245244  maxlinkdim=4 maxerr=1.22E-03 time=0.318\n",
      "After sweep 9 energy=-351.62886281208586  maxlinkdim=4 maxerr=1.22E-03 time=0.300\n",
      "After sweep 10 energy=-351.62886298128666  maxlinkdim=4 maxerr=1.22E-03 time=0.301\n",
      "\n",
      "Running DMRG for a length 200 spin chain\n",
      "\n",
      "After sweep 1 energy=-353.4933402454934  maxlinkdim=10 maxerr=1.39E-02 time=0.737\n",
      "After sweep 2 energy=-353.73135751214494  maxlinkdim=20 maxerr=2.20E-06 time=0.771\n",
      "After sweep 3 energy=-353.76347293486543  maxlinkdim=79 maxerr=9.98E-11 time=4.716\n",
      "After sweep 4 energy=-353.7660679630495  maxlinkdim=100 maxerr=9.67E-10 time=13.350\n",
      "After sweep 5 energy=-353.5630173281532  maxlinkdim=8 maxerr=2.85E-04 time=1.066\n",
      "After sweep 6 energy=-353.5703622558372  maxlinkdim=8 maxerr=6.77E-05 time=0.467\n",
      "After sweep 7 energy=-353.5705760919884  maxlinkdim=8 maxerr=6.21E-05 time=0.392\n",
      "After sweep 8 energy=-353.57059066197013  maxlinkdim=8 maxerr=6.17E-05 time=0.395\n",
      "After sweep 9 energy=-353.57059202565017  maxlinkdim=8 maxerr=6.17E-05 time=0.386\n",
      "After sweep 10 energy=-353.5705922341492  maxlinkdim=8 maxerr=6.17E-05 time=0.380\n",
      "\n",
      "Running DMRG for a length 200 spin chain\n",
      "\n",
      "After sweep 1 energy=-353.55402227175966  maxlinkdim=10 maxerr=1.01E-02 time=0.801\n",
      "After sweep 2 energy=-353.7508979709998  maxlinkdim=20 maxerr=2.14E-06 time=1.077\n",
      "After sweep 3 energy=-353.7657381211042  maxlinkdim=78 maxerr=9.98E-11 time=5.453\n",
      "After sweep 4 energy=-353.76621440836976  maxlinkdim=100 maxerr=2.11E-09 time=13.910\n",
      "After sweep 5 energy=-353.7366456001824  maxlinkdim=16 maxerr=8.27E-05 time=2.109\n",
      "After sweep 6 energy=-353.7388243985029  maxlinkdim=16 maxerr=2.09E-05 time=0.811\n",
      "After sweep 7 energy=-353.7390021700926  maxlinkdim=16 maxerr=1.77E-05 time=0.817\n",
      "After sweep 8 energy=-353.7390263317228  maxlinkdim=16 maxerr=1.72E-05 time=0.820\n",
      "After sweep 9 energy=-353.73903046250956  maxlinkdim=16 maxerr=1.71E-05 time=0.794\n",
      "After sweep 10 energy=-353.7390312148351  maxlinkdim=16 maxerr=1.71E-05 time=0.807\n",
      "\n",
      "Running DMRG for a length 200 spin chain\n",
      "\n",
      "After sweep 1 energy=-353.5366984500321  maxlinkdim=10 maxerr=1.05E-02 time=0.812\n",
      "After sweep 2 energy=-353.74124102421376  maxlinkdim=20 maxerr=2.40E-06 time=0.877\n",
      "After sweep 3 energy=-353.76536778776966  maxlinkdim=79 maxerr=9.99E-11 time=5.255\n",
      "After sweep 4 energy=-353.76620632683904  maxlinkdim=100 maxerr=1.83E-09 time=14.010\n",
      "After sweep 5 energy=-353.76420303125843  maxlinkdim=32 maxerr=2.74E-06 time=4.656\n",
      "After sweep 6 energy=-353.7642397980034  maxlinkdim=32 maxerr=1.23E-06 time=2.853\n",
      "After sweep 7 energy=-353.76424696451375  maxlinkdim=32 maxerr=1.19E-06 time=2.908\n",
      "After sweep 8 energy=-353.7642509432175  maxlinkdim=32 maxerr=1.20E-06 time=3.635\n",
      "After sweep 9 energy=-353.7642540537221  maxlinkdim=32 maxerr=1.20E-06 time=3.160\n",
      "After sweep 10 energy=-353.7642569779502  maxlinkdim=32 maxerr=1.21E-06 time=3.070\n",
      "\n",
      "Running DMRG for a length 200 spin chain\n",
      "\n",
      "After sweep 1 energy=-353.5842399719887  maxlinkdim=10 maxerr=7.33E-03 time=0.949\n",
      "After sweep 2 energy=-353.74112904098297  maxlinkdim=20 maxerr=2.28E-06 time=0.887\n",
      "After sweep 3 energy=-353.76522928374254  maxlinkdim=79 maxerr=1.00E-10 time=6.149\n",
      "After sweep 4 energy=-353.7662020800027  maxlinkdim=100 maxerr=1.53E-09 time=15.031\n",
      "After sweep 5 energy=-353.76617205302955  maxlinkdim=64 maxerr=4.84E-08 time=11.986\n",
      "After sweep 6 energy=-353.76617226765575  maxlinkdim=64 maxerr=3.69E-08 time=8.807\n",
      "After sweep 7 energy=-353.7661722844153  maxlinkdim=64 maxerr=3.68E-08 time=8.310\n",
      "After sweep 8 energy=-353.7661722881146  maxlinkdim=64 maxerr=3.68E-08 time=8.604\n",
      "After sweep 9 energy=-353.76617229186286  maxlinkdim=64 maxerr=3.68E-08 time=8.149\n",
      "After sweep 10 energy=-353.7661722939005  maxlinkdim=64 maxerr=3.68E-08 time=8.363\n",
      "\n",
      "Running DMRG for a length 200 spin chain\n",
      "\n",
      "After sweep 1 energy=-353.5216400355252  maxlinkdim=10 maxerr=9.49E-03 time=0.857\n",
      "After sweep 2 energy=-353.7077637067025  maxlinkdim=20 maxerr=2.36E-06 time=0.829\n",
      "After sweep 3 energy=-353.762286233244  maxlinkdim=78 maxerr=9.99E-11 time=5.317\n",
      "After sweep 4 energy=-353.76592046671686  maxlinkdim=100 maxerr=4.84E-10 time=12.812\n",
      "After sweep 5 energy=-353.76620871342215  maxlinkdim=128 maxerr=5.67E-10 time=18.568\n",
      "After sweep 6 energy=-353.7662214020774  maxlinkdim=128 maxerr=6.99E-10 time=23.003\n",
      "After sweep 7 energy=-353.7662216188227  maxlinkdim=128 maxerr=5.61E-10 time=24.363\n",
      "After sweep 8 energy=-353.7662216256214  maxlinkdim=128 maxerr=5.35E-10 time=24.791\n",
      "After sweep 9 energy=-353.76622162661147  maxlinkdim=128 maxerr=5.33E-10 time=23.191\n",
      "After sweep 10 energy=-353.7662216268312  maxlinkdim=128 maxerr=5.37E-10 time=24.658\n",
      "\n",
      "Running DMRG for a length 200 spin chain\n",
      "\n",
      "After sweep 1 energy=-353.5363327757804  maxlinkdim=10 maxerr=1.00E-02 time=0.991\n",
      "After sweep 2 energy=-353.73088615536153  maxlinkdim=20 maxerr=2.20E-06 time=1.103\n",
      "After sweep 3 energy=-353.7644106415878  maxlinkdim=78 maxerr=9.98E-11 time=6.245\n",
      "After sweep 4 energy=-353.76613579961906  maxlinkdim=100 maxerr=7.04E-10 time=14.632\n",
      "After sweep 5 energy=-353.76621917746036  maxlinkdim=152 maxerr=1.00E-10 time=20.128\n",
      "After sweep 6 energy=-353.76622195502273  maxlinkdim=164 maxerr=1.00E-10 time=24.774\n",
      "After sweep 7 energy=-353.76622198611346  maxlinkdim=159 maxerr=1.00E-10 time=31.030\n",
      "After sweep 8 energy=-353.7662219880229  maxlinkdim=159 maxerr=1.00E-10 time=28.329\n",
      "After sweep 9 energy=-353.7662219883019  maxlinkdim=159 maxerr=1.00E-10 time=28.549\n",
      "After sweep 10 energy=-353.76622198867085  maxlinkdim=159 maxerr=1.00E-10 time=31.379\n"
     ]
    },
    {
     "data": {
      "text/plain": [
       "\"afmheis_L200.csv\""
      ]
     },
     "execution_count": 66,
     "metadata": {},
     "output_type": "execute_result"
    }
   ],
   "source": [
    "L = 200\n",
    "powers = collect(1:8)\n",
    "bds = 2 .^ powers\n",
    "print(bds)\n",
    "\n",
    "energies = DataFrame([\"bonddims\"=>[],\"energies\"=>[]])\n",
    "\n",
    "for bd in bds\n",
    "    interactions = spinchain_open(L)\n",
    "    H, psi0 = get_afmheis_1d(L,1.,interactions)\n",
    "    e = run_dmrg_1d(H,psi0,L,bd)\n",
    "    push!(energies[!,\"bonddims\"],bd)\n",
    "    push!(energies[!,\"energies\"],e)\n",
    "end\n",
    "\n",
    "CSV.write(\"afmheis_L$(L).csv\", energies)"
   ]
  },
  {
   "cell_type": "code",
   "execution_count": null,
   "id": "4d1e9cf1",
   "metadata": {},
   "outputs": [],
   "source": []
  }
 ],
 "metadata": {
  "kernelspec": {
   "display_name": "Julia 1.9.3",
   "language": "julia",
   "name": "julia-1.9"
  },
  "language_info": {
   "file_extension": ".jl",
   "mimetype": "application/julia",
   "name": "julia",
   "version": "1.9.3"
  }
 },
 "nbformat": 4,
 "nbformat_minor": 5
}
