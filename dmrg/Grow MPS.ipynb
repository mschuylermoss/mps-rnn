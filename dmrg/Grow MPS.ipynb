{
 "cells": [
  {
   "cell_type": "code",
   "execution_count": 1,
   "id": "24af2690",
   "metadata": {},
   "outputs": [
    {
     "name": "stderr",
     "output_type": "stream",
     "text": [
      "\u001b[36m\u001b[1m[ \u001b[22m\u001b[39m\u001b[36m\u001b[1mInfo: \u001b[22m\u001b[39mInstalling julia_ITensors kernelspec in /Users/mschuylerm/Library/Jupyter/kernels/julia_itensors-1.9\n"
     ]
    },
    {
     "data": {
      "text/plain": [
       "\"/Users/mschuylerm/Library/Jupyter/kernels/julia_itensors-1.9\""
      ]
     },
     "execution_count": 1,
     "metadata": {},
     "output_type": "execute_result"
    }
   ],
   "source": [
    "using IJulia\n",
    "installkernel(\"julia_ITensors\",\"--sysimage=~/.julia/sysimages/sys_itensors.so\")"
   ]
  },
  {
   "cell_type": "code",
   "execution_count": 2,
   "id": "54be6ff5",
   "metadata": {},
   "outputs": [],
   "source": [
    "using ITensors\n",
    "using ITensors.HDF5\n",
    "using DataFrames"
   ]
  },
  {
   "cell_type": "markdown",
   "id": "eb701b1d",
   "metadata": {},
   "source": [
    "# Lattice, DMRG function"
   ]
  },
  {
   "cell_type": "code",
   "execution_count": 3,
   "id": "64155ed4",
   "metadata": {},
   "outputs": [
    {
     "data": {
      "text/plain": [
       "spinchain_open (generic function with 1 method)"
      ]
     },
     "execution_count": 3,
     "metadata": {},
     "output_type": "execute_result"
    }
   ],
   "source": [
    "function spinchain_open(L)\n",
    "    \n",
    "    interactions = DataFrame([\"$spin\"=>[] for spin in 1:L-1])\n",
    "    \n",
    "    for spin in 1:L-1\n",
    "        neighbor = spin+1\n",
    "        push!(interactions[!,\"$spin\"],[spin,neighbor])\n",
    "    end\n",
    "\n",
    "    return interactions\n",
    "end"
   ]
  },
  {
   "cell_type": "code",
   "execution_count": 11,
   "id": "9933cf4a",
   "metadata": {},
   "outputs": [
    {
     "data": {
      "text/plain": [
       "dmrg_1D_ising (generic function with 1 method)"
      ]
     },
     "execution_count": 11,
     "metadata": {},
     "output_type": "execute_result"
    }
   ],
   "source": [
    "function dmrg_1D_ising(L::Int, J, maxbd::Int, bc::String, save::Bool)\n",
    "    \n",
    "    if bc == \"open\"\n",
    "        interactions = spinchain_open(L)\n",
    "    elseif bc == \"peri\"\n",
    "        interactions = spinchain_peri(L)\n",
    "    end\n",
    "    \n",
    "    sites = siteinds(\"S=1/2\",L)\n",
    "    println(\"\\nRunning DMRG for a length $L spin chain\\n\")\n",
    "    \n",
    "    # Build Hamiltonian\n",
    "    os = OpSum()\n",
    "    for k=1:ncol(interactions)\n",
    "        i = interactions[!,k][1][1]\n",
    "        j = interactions[!,k][1][2]\n",
    "        os += 4*J,\"Sz\",i,\"Sz\",j\n",
    "    end\n",
    "    H = MPO(os,sites)\n",
    "\n",
    "    psi0 = randomMPS(sites, 40)\n",
    "\n",
    "    sweeps = Sweeps(10)\n",
    "    setmaxdim!(sweeps, 10,20,100,100,maxbd)\n",
    "    setcutoff!(sweeps, 1E-10)\n",
    "\n",
    "    energy, psi = dmrg(H, psi0, sweeps, outputlevel=1)\n",
    "    energy_per_spin = energy / L\n",
    "    \n",
    "    energy_est = inner(psi',H,psi)\n",
    "    energy_per_spin_est = energy_est/L\n",
    "    \n",
    "    println(\"\\nA sample from the optimized MPS looks like:\\n\",sample(psi))\n",
    "    \n",
    "    if save   \n",
    "        f = h5open(\"../out/ising_fm_1d_L$(L)/sanity_check/init.hdf5\",\"w\") \n",
    "        write(f,\"psi\",psi)\n",
    "        close(f)\n",
    "    end\n",
    "    \n",
    "    for i =1:L\n",
    "        println(\"M\",i)\n",
    "        println(psi[i])\n",
    "    end\n",
    "    \n",
    "    return energy_per_spin, energy_per_spin_est, psi\n",
    "end"
   ]
  },
  {
   "cell_type": "code",
   "execution_count": 123,
   "id": "d98e3901",
   "metadata": {},
   "outputs": [
    {
     "data": {
      "text/plain": [
       "dmrg_1D_tfim (generic function with 1 method)"
      ]
     },
     "execution_count": 123,
     "metadata": {},
     "output_type": "execute_result"
    }
   ],
   "source": [
    "function dmrg_1D_tfim(L::Int, J, h, maxbd::Int, bc::String, save::Bool)\n",
    "    \n",
    "    if bc == \"open\"\n",
    "        interactions = spinchain_open(L)\n",
    "    elseif bc == \"peri\"\n",
    "        interactions = spinchain_peri(L)\n",
    "    end\n",
    "    \n",
    "    sites = siteinds(\"S=1/2\",L)\n",
    "    println(\"\\nRunning DMRG for a length $L spin chain\\n\")\n",
    "    \n",
    "    # Build Hamiltonian\n",
    "    os = OpSum()\n",
    "    for k=1:ncol(interactions)\n",
    "        i = interactions[!,k][1][1]\n",
    "        j = interactions[!,k][1][2]\n",
    "        os += 4*J,\"Sz\",i,\"Sz\",j\n",
    "    end\n",
    "    for k=1:L\n",
    "        os += 2*h,\"Sx\",k\n",
    "    end\n",
    "    H = MPO(os,sites)\n",
    "\n",
    "    psi0 = randomMPS(sites, 40)\n",
    "\n",
    "    sweeps = Sweeps(10)\n",
    "    setmaxdim!(sweeps, 10,20,100,100,maxbd)\n",
    "    setmindim!(sweeps,maxbd)\n",
    "    setcutoff!(sweeps, 1E-10)\n",
    "\n",
    "    energy, psi = dmrg(H, psi0, sweeps, outputlevel=1)\n",
    "    energy_per_spin = energy / L\n",
    "    \n",
    "    energy_est = inner(psi',H,psi)\n",
    "    energy_per_spin_est = energy_est/L\n",
    "    \n",
    "    if save   \n",
    "        f = h5open(\"tfim_J$(Int(J))_h$(Int(h))_1d_L$(L).h5\",\"w\") \n",
    "        write(f,\"psi\",psi)\n",
    "        close(f)\n",
    "    end\n",
    "    \n",
    "    println(\"\")\n",
    "    @show psi\n",
    "    \n",
    "    return energy_per_spin,energy_per_spin_est,psi\n",
    "end"
   ]
  },
  {
   "cell_type": "markdown",
   "id": "5b2d8aaa",
   "metadata": {},
   "source": [
    "# Try growing algo"
   ]
  },
  {
   "cell_type": "markdown",
   "id": "8729ce22",
   "metadata": {},
   "source": [
    "Step 1: Obtain wavefunction for a two-site lattice and a four-site lattice. Set n = 1. "
   ]
  },
  {
   "cell_type": "code",
   "execution_count": 132,
   "id": "027adf10",
   "metadata": {
    "scrolled": true
   },
   "outputs": [
    {
     "name": "stdout",
     "output_type": "stream",
     "text": [
      "\n",
      "Running DMRG for a length 2 spin chain\n",
      "\n",
      "After sweep 1 energy=-1.0  maxlinkdim=2 maxerr=0.00E+00 time=0.001\n",
      "After sweep 2 energy=-1.0  maxlinkdim=2 maxerr=0.00E+00 time=0.001\n",
      "After sweep 3 energy=-1.0  maxlinkdim=2 maxerr=0.00E+00 time=0.001\n",
      "After sweep 4 energy=-1.0  maxlinkdim=2 maxerr=0.00E+00 time=0.001\n",
      "After sweep 5 energy=-1.0  maxlinkdim=2 maxerr=0.00E+00 time=0.001\n",
      "After sweep 6 energy=-1.0  maxlinkdim=2 maxerr=0.00E+00 time=0.001\n",
      "After sweep 7 energy=-1.0  maxlinkdim=2 maxerr=0.00E+00 time=0.000\n",
      "After sweep 8 energy=-1.0  maxlinkdim=2 maxerr=0.00E+00 time=0.000\n",
      "After sweep 9 energy=-1.0  maxlinkdim=2 maxerr=0.00E+00 time=0.001\n",
      "After sweep 10 energy=-1.0  maxlinkdim=2 maxerr=0.00E+00 time=0.001\n",
      "\n",
      "A sample from the optimized MPS looks like:\n",
      "[2, 2]\n",
      "M1\n",
      "ITensor ord=2\n",
      "Dim 1: (dim=2|id=198|\"Link,l=1\")\n",
      "Dim 2: (dim=2|id=984|\"S=1/2,Site,n=1\")\n",
      "NDTensors.Dense{Float64, Vector{Float64}}\n",
      " 2×2\n",
      " -5.904896892156415e-17  -0.9946033323558287\n",
      "  0.10375071694538304    -6.159614251429185e-18\n",
      "M2\n",
      "ITensor ord=2\n",
      "Dim 1: (dim=2|id=626|\"S=1/2,Site,n=2\")\n",
      "Dim 2: (dim=2|id=198|\"Link,l=1\")\n",
      "NDTensors.Dense{Float64, Vector{Float64}}\n",
      " 2×2\n",
      " 3.409921198104796e-17  -1.0\n",
      " 1.0                     3.409921198104796e-17\n",
      "\n",
      "Running DMRG for a length 4 spin chain\n",
      "\n",
      "After sweep 1 energy=-2.9999999997907745  maxlinkdim=4 maxerr=0.00E+00 time=0.004\n",
      "After sweep 2 energy=-3.0000000000000013  maxlinkdim=2 maxerr=4.15E-15 time=0.003\n",
      "After sweep 3 energy=-3.0  maxlinkdim=2 maxerr=2.22E-16 time=0.002\n",
      "After sweep 4 energy=-2.9999999999999996  maxlinkdim=2 maxerr=5.55E-16 time=0.002\n",
      "After sweep 5 energy=-3.0  maxlinkdim=2 maxerr=2.22E-16 time=0.002\n",
      "After sweep 6 energy=-3.0  maxlinkdim=2 maxerr=6.41E-32 time=0.002\n",
      "After sweep 7 energy=-3.0  maxlinkdim=2 maxerr=2.09E-62 time=0.002\n",
      "After sweep 8 energy=-3.0  maxlinkdim=2 maxerr=5.55E-16 time=0.002\n",
      "After sweep 9 energy=-3.0  maxlinkdim=2 maxerr=5.55E-16 time=0.002\n",
      "After sweep 10 energy=-3.0000000000000004  maxlinkdim=2 maxerr=5.55E-16 time=0.002\n",
      "\n",
      "A sample from the optimized MPS looks like:\n",
      "[1, 1, 1, 1]\n",
      "M1\n",
      "ITensor ord=2\n",
      "Dim 1: (dim=2|id=705|\"Link,l=1\")\n",
      "Dim 2: (dim=2|id=29|\"S=1/2,Site,n=1\")\n",
      "NDTensors.Dense{Float64, Vector{Float64}}\n",
      " 2×2\n",
      "  0.8802264104363273      4.133043897886944e-16\n",
      " -2.2282362230195255e-16  0.47455396570925257\n",
      "M2\n",
      "ITensor ord=3\n",
      "Dim 1: (dim=2|id=478|\"Link,l=2\")\n",
      "Dim 2: (dim=2|id=221|\"S=1/2,Site,n=2\")\n",
      "Dim 3: (dim=2|id=705|\"Link,l=1\")\n",
      "NDTensors.Dense{Float64, Vector{Float64}}\n",
      " 2×2×2\n",
      "[:, :, 1] =\n",
      " 1.0  0.0\n",
      " 0.0  0.0\n",
      "\n",
      "[:, :, 2] =\n",
      " 0.0  0.0\n",
      " 0.0  1.0\n",
      "M3\n",
      "ITensor ord=3\n",
      "Dim 1: (dim=2|id=365|\"S=1/2,Site,n=3\")\n",
      "Dim 2: (dim=2|id=920|\"Link,l=3\")\n",
      "Dim 3: (dim=2|id=478|\"Link,l=2\")\n",
      "NDTensors.Dense{Float64, Vector{Float64}}\n",
      " 2×2×2\n",
      "[:, :, 1] =\n",
      "  1.0                    4.023073756453624e-17\n",
      " -4.023073756453624e-17  0.0\n",
      "\n",
      "[:, :, 2] =\n",
      " 0.0  0.0\n",
      " 0.0  1.0\n",
      "M4\n",
      "ITensor ord=2\n",
      "Dim 1: (dim=2|id=624|\"S=1/2,Site,n=4\")\n",
      "Dim 2: (dim=2|id=920|\"Link,l=3\")\n",
      "NDTensors.Dense{Float64, Vector{Float64}}\n",
      " 2×2\n",
      " -1.0                    -6.068235608789732e-16\n",
      "  6.068235608789732e-16  -1.0\n"
     ]
    },
    {
     "data": {
      "text/plain": [
       "(-0.7500000000000001, -0.7500000000000002, MPS\n",
       "[1] ((dim=2|id=705|\"Link,l=1\"), (dim=2|id=29|\"S=1/2,Site,n=1\"))\n",
       "[2] ((dim=2|id=478|\"Link,l=2\"), (dim=2|id=221|\"S=1/2,Site,n=2\"), (dim=2|id=705|\"Link,l=1\"))\n",
       "[3] ((dim=2|id=365|\"S=1/2,Site,n=3\"), (dim=2|id=920|\"Link,l=3\"), (dim=2|id=478|\"Link,l=2\"))\n",
       "[4] ((dim=2|id=624|\"S=1/2,Site,n=4\"), (dim=2|id=920|\"Link,l=3\"))\n",
       ")"
      ]
     },
     "execution_count": 132,
     "metadata": {},
     "output_type": "execute_result"
    }
   ],
   "source": [
    "_,_,psi0 = dmrg_1D_ising(2,-1,2,\"open\",false)\n",
    "_,_,psi1 = dmrg_1D_ising(4,-1,2,\"open\",false)"
   ]
  },
  {
   "cell_type": "markdown",
   "id": "edee017a",
   "metadata": {},
   "source": [
    "These MPS are returned in left-canonical form by the DMRG function, but we need them to be in center canonical form."
   ]
  },
  {
   "cell_type": "code",
   "execution_count": 133,
   "id": "c0c4eabc",
   "metadata": {},
   "outputs": [],
   "source": [
    "N0 = 2\n",
    "half0 = Int(N0/2)\n",
    "psi0 = orthogonalize!(psi0,half0)\n",
    "U0,lambda0,V0 = svd(psi0[half0],siteind(psi0,half0));\n",
    "# println(\"----New----\")\n",
    "# println(U0,lambda0,V0*psi0[2])\n",
    "# println(\"----Old-----\")\n",
    "# println(psi0[1],psi0[2])\n",
    "# println(\"----Compare Old & New----\")\n",
    "# println(U0*lambda0*V0*psi0[2])\n",
    "# println(psi0[1]*psi0[2])"
   ]
  },
  {
   "cell_type": "code",
   "execution_count": 134,
   "id": "28419e33",
   "metadata": {},
   "outputs": [],
   "source": [
    "N1 = 4\n",
    "half1 = Int(N1/2)\n",
    "psi1 = orthogonalize!(psi1,half1)\n",
    "combiner_ = combiner(siteind(psi1,half1),linkind(psi1,half1-1); tags=\"site, left link\")\n",
    "combined_ = combinedind(combiner_)\n",
    "U1,lambda1,V1 = svd(psi1[half1]*combiner_,combined_)\n",
    "U1 = dag(combiner_) * U1;\n",
    "# println(\"----New----\")\n",
    "# println(psi1[1],U1,lambda1,V1*psi1[3],psi1[4])\n",
    "# println(\"----Old-----\")\n",
    "# println(psi1[1],psi1[2],psi1[3],psi1[4])\n",
    "# println(\"----Compare Old & New----\")\n",
    "# println(psi1[1]*U1*lambda1*V1*psi1[3]*psi1[4])\n",
    "# println(psi1[1]*psi1[2]*psi1[3]*psi1[4])"
   ]
  },
  {
   "cell_type": "markdown",
   "id": "af220991",
   "metadata": {},
   "source": [
    "Now these matrices are in the correct form:\n",
    "- $\\vert \\Psi_0\\rangle = A_0 \\Lambda_0 B_0$\n",
    "- $\\vert \\Psi_1\\rangle = A_0 A_1 \\Lambda_1 B_1 B_0$"
   ]
  },
  {
   "cell_type": "markdown",
   "id": "2e4cc69f",
   "metadata": {},
   "source": [
    "Step 2 & 3: Rotate the center matrix of $\\vert \\Psi_1\\rangle$ one step to the left and rotate the same center matrix one step to the right."
   ]
  },
  {
   "cell_type": "markdown",
   "id": "b3180564",
   "metadata": {},
   "source": [
    "Step 2 (rotate to the left):"
   ]
  },
  {
   "cell_type": "code",
   "execution_count": 135,
   "id": "51cb73be",
   "metadata": {},
   "outputs": [
    {
     "name": "stdout",
     "output_type": "stream",
     "text": [
      "Check full contraction:\n",
      "ITensor ord=4\n",
      "Dim 1: (dim=2|id=29|\"S=1/2,Site,n=1\")\n",
      "Dim 2: (dim=2|id=221|\"S=1/2,Site,n=2\")\n",
      "Dim 3: (dim=2|id=365|\"S=1/2,Site,n=3\")\n",
      "Dim 4: (dim=2|id=624|\"S=1/2,Site,n=4\")\n",
      "NDTensors.Dense{Float64, Vector{Float64}}\n",
      " 2×2×2×2\n",
      "[:, :, 1, 1] =\n",
      " -0.8802264104363273     0.0\n",
      " -4.133043897886944e-16  0.0\n",
      "\n",
      "[:, :, 2, 1] =\n",
      " 3.541215771563765e-17    1.3521462393322224e-31\n",
      " 1.6627540439859757e-32  -2.879705273009268e-16\n",
      "\n",
      "[:, :, 1, 2] =\n",
      " 4.987299670450511e-16  0.0\n",
      " 2.341753010986269e-31  0.0\n",
      "\n",
      "[:, :, 2, 2] =\n",
      " -2.1488931643411042e-32   2.2282362230195255e-16\n",
      " -1.0089983298374826e-47  -0.47455396570925257\n"
     ]
    }
   ],
   "source": [
    "j_ = 1\n",
    "psi1 = orthogonalize!(psi1,j_)\n",
    "UL,lambdaL,VL = svd(psi1[j_],siteind(psi1,j_))\n",
    "M1 = UL\n",
    "B2 = VL*psi1[2]\n",
    "B1 = psi1[3]\n",
    "B0 = psi1[4]\n",
    "println(\"Check full contraction:\")\n",
    "println(M1*lambdaL*B2*B1*B0)"
   ]
  },
  {
   "cell_type": "markdown",
   "id": "7d1544d1",
   "metadata": {},
   "source": [
    "Step 3 (rotate to the right):"
   ]
  },
  {
   "cell_type": "code",
   "execution_count": 136,
   "id": "877b4a5a",
   "metadata": {},
   "outputs": [
    {
     "name": "stdout",
     "output_type": "stream",
     "text": [
      "Check full contraction:\n",
      "ITensor ord=4\n",
      "Dim 1: (dim=2|id=29|\"S=1/2,Site,n=1\")\n",
      "Dim 2: (dim=2|id=221|\"S=1/2,Site,n=2\")\n",
      "Dim 3: (dim=2|id=365|\"S=1/2,Site,n=3\")\n",
      "Dim 4: (dim=2|id=624|\"S=1/2,Site,n=4\")\n",
      "NDTensors.Dense{Float64, Vector{Float64}}\n",
      " 2×2×2×2\n",
      "[:, :, 1, 1] =\n",
      " -0.8802264104363273     0.0\n",
      " -4.133043897886944e-16  0.0\n",
      "\n",
      "[:, :, 2, 1] =\n",
      " 3.541215771563765e-17    1.3521462393322224e-31\n",
      " 1.6627540439859757e-32  -2.879705273009268e-16\n",
      "\n",
      "[:, :, 1, 2] =\n",
      " 1.552527328398365e-16  0.0\n",
      " 7.289787632887372e-32  0.0\n",
      "\n",
      "[:, :, 2, 2] =\n",
      " -6.245931951056521e-33    2.2282362230195255e-16\n",
      " -2.9327353315989375e-48  -0.47455396570925257\n"
     ]
    }
   ],
   "source": [
    "j_ = 4\n",
    "psi1 = orthogonalize!(psi1,j_)\n",
    "UR,lambdaR,VR = svd(psi1[j_],linkind(psi1,j_-1))\n",
    "A0 = psi1[1]\n",
    "A1 = psi1[2]\n",
    "A2 = psi1[3]*UR\n",
    "M4 = VR\n",
    "println(\"Check full contraction:\")\n",
    "println(A0*A1*A2*lambdaR*M4)"
   ]
  },
  {
   "cell_type": "markdown",
   "id": "9d45ae0b",
   "metadata": {},
   "source": [
    "Step 4: Stitch together new MPS which has been grown by two sites."
   ]
  },
  {
   "cell_type": "code",
   "execution_count": 137,
   "id": "0ab2774f",
   "metadata": {},
   "outputs": [
    {
     "name": "stdout",
     "output_type": "stream",
     "text": [
      "---As---\n",
      "ITensor ord=2\n",
      "Dim 1: (dim=2|id=29|\"S=1/2,Site,n=1\")\n",
      "Dim 2: (dim=2|id=434|\"Link,l=1\")\n",
      "NDTensors.Dense{Float64, Vector{Float64}}\n",
      " 2×2\n",
      " -1.0                    -4.695432730583713e-16\n",
      " -4.695432730583713e-16   1.0\n",
      "ITensor ord=3\n",
      "Dim 1: (dim=2|id=221|\"S=1/2,Site,n=2\")\n",
      "Dim 2: (dim=2|id=434|\"Link,l=1\")\n",
      "Dim 3: (dim=2|id=450|\"Link,l=2\")\n",
      "NDTensors.Dense{Float64, Vector{Float64}}\n",
      " 2×2×2\n",
      "[:, :, 1] =\n",
      " 1.0  0.0\n",
      " 0.0  0.0\n",
      "\n",
      "[:, :, 2] =\n",
      " 0.0   0.0\n",
      " 0.0  -1.0\n",
      "ITensor ord=3\n",
      "Dim 1: (dim=2|id=365|\"S=1/2,Site,n=3\")\n",
      "Dim 2: (dim=2|id=450|\"Link,l=2\")\n",
      "Dim 3: (dim=2|id=104|\"Link,u\")\n",
      "NDTensors.Dense{Float64, Vector{Float64}}\n",
      " 2×2×2\n",
      "[:, :, 1] =\n",
      "  1.0                    0.0\n",
      " -4.023073756453624e-17  3.2715506361389465e-16\n",
      "\n",
      "[:, :, 2] =\n",
      "  3.2715506361389465e-16   0.0\n",
      " -1.3161689507159756e-32  -1.0\n",
      "---Lambdas---\n",
      "ITensor ord=2\n",
      "Dim 1: (dim=2|id=104|\"Link,u\")\n",
      "Dim 2: (dim=2|id=186|\"Link,v\")\n",
      "NDTensors.Diag{Float64, Vector{Float64}}\n",
      " 2×2\n",
      " 0.8802264104363273  0.0\n",
      " 0.0                 0.47455396570925257\n",
      "ITensor ord=2\n",
      "Dim 1: (dim=2|id=983|\"Link,u\")\n",
      "Dim 2: (dim=2|id=267|\"Link,v\")\n",
      "NDTensors.Diag{Float64, Vector{Float64}}\n",
      " 2×2\n",
      " 0.9946033323558287  0.0\n",
      " 0.0                 0.10375071694538304\n",
      "ITensor ord=2\n",
      "Dim 1: (dim=2|id=223|\"Link,u\")\n",
      "Dim 2: (dim=2|id=758|\"Link,v\")\n",
      "NDTensors.Diag{Float64, Vector{Float64}}\n",
      " 2×2\n",
      " 0.8802264104363273  0.0\n",
      " 0.0                 0.47455396570925257\n",
      "---Bs---\n",
      "ITensor ord=3\n",
      "Dim 1: (dim=2|id=758|\"Link,v\")\n",
      "Dim 2: (dim=2|id=478|\"Link,l=2\")\n",
      "Dim 3: (dim=2|id=221|\"S=1/2,Site,n=2\")\n",
      "NDTensors.Dense{Float64, Vector{Float64}}\n",
      " 2×2×2\n",
      "[:, :, 1] =\n",
      " -1.0  0.0\n",
      "  0.0  0.0\n",
      "\n",
      "[:, :, 2] =\n",
      " 0.0  0.0\n",
      " 0.0  1.0\n",
      "ITensor ord=3\n",
      "Dim 1: (dim=2|id=365|\"S=1/2,Site,n=3\")\n",
      "Dim 2: (dim=2|id=920|\"Link,l=3\")\n",
      "Dim 3: (dim=2|id=478|\"Link,l=2\")\n",
      "NDTensors.Dense{Float64, Vector{Float64}}\n",
      " 2×2×2\n",
      "[:, :, 1] =\n",
      "  1.0                    4.023073756453624e-17\n",
      " -4.023073756453624e-17  0.0\n",
      "\n",
      "[:, :, 2] =\n",
      " 0.0  0.0\n",
      " 0.0  1.0\n",
      "ITensor ord=2\n",
      "Dim 1: (dim=2|id=624|\"S=1/2,Site,n=4\")\n",
      "Dim 2: (dim=2|id=920|\"Link,l=3\")\n",
      "NDTensors.Dense{Float64, Vector{Float64}}\n",
      " 2×2\n",
      " -1.0                    -6.068235608789732e-16\n",
      "  6.068235608789732e-16  -1.0\n"
     ]
    }
   ],
   "source": [
    "println(\"---As---\")\n",
    "println(A0)\n",
    "println(A1)\n",
    "println(A2)\n",
    "println(\"---Lambdas---\")\n",
    "println(lambdaR)\n",
    "println(lambda0)\n",
    "println(lambdaL)\n",
    "println(\"---Bs---\")\n",
    "println(B2)\n",
    "println(B1)\n",
    "println(B0)"
   ]
  }
 ],
 "metadata": {
  "kernelspec": {
   "display_name": "Julia 1.9.3",
   "language": "julia",
   "name": "julia-1.9"
  },
  "language_info": {
   "file_extension": ".jl",
   "mimetype": "application/julia",
   "name": "julia",
   "version": "1.9.3"
  }
 },
 "nbformat": 4,
 "nbformat_minor": 5
}
