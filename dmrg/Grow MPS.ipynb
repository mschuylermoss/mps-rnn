{
 "cells": [
  {
   "cell_type": "code",
   "execution_count": 1,
   "id": "d143087e",
   "metadata": {},
   "outputs": [
    {
     "name": "stderr",
     "output_type": "stream",
     "text": [
      "\u001b[36m\u001b[1m[ \u001b[22m\u001b[39m\u001b[36m\u001b[1mInfo: \u001b[22m\u001b[39mInstalling julia_ITensors kernelspec in /Users/mschuylerm/Library/Jupyter/kernels/julia_itensors-1.9\n"
     ]
    },
    {
     "data": {
      "text/plain": [
       "\"/Users/mschuylerm/Library/Jupyter/kernels/julia_itensors-1.9\""
      ]
     },
     "execution_count": 1,
     "metadata": {},
     "output_type": "execute_result"
    }
   ],
   "source": [
    "using IJulia\n",
    "installkernel(\"julia_ITensors\",\"--sysimage=~/.julia/sysimages/sys_itensors.so\")"
   ]
  },
  {
   "cell_type": "code",
   "execution_count": 2,
   "id": "2c3e022e",
   "metadata": {},
   "outputs": [],
   "source": [
    "using ITensors\n",
    "using ITensors.HDF5\n",
    "using DataFrames"
   ]
  },
  {
   "cell_type": "markdown",
   "id": "5ce29609",
   "metadata": {},
   "source": [
    "# Lattice, DMRG function"
   ]
  },
  {
   "cell_type": "code",
   "execution_count": 3,
   "id": "3ebc7d5b",
   "metadata": {},
   "outputs": [
    {
     "data": {
      "text/plain": [
       "spinchain_open (generic function with 1 method)"
      ]
     },
     "execution_count": 3,
     "metadata": {},
     "output_type": "execute_result"
    }
   ],
   "source": [
    "function spinchain_open(L)\n",
    "    \n",
    "    interactions = DataFrame([\"$spin\"=>[] for spin in 1:L-1])\n",
    "    \n",
    "    for spin in 1:L-1\n",
    "        neighbor = spin+1\n",
    "        push!(interactions[!,\"$spin\"],[spin,neighbor])\n",
    "    end\n",
    "\n",
    "    return interactions\n",
    "end"
   ]
  },
  {
   "cell_type": "code",
   "execution_count": 4,
   "id": "19778edd",
   "metadata": {},
   "outputs": [
    {
     "data": {
      "text/plain": [
       "dmrg_1D_ising (generic function with 1 method)"
      ]
     },
     "execution_count": 4,
     "metadata": {},
     "output_type": "execute_result"
    }
   ],
   "source": [
    "function dmrg_1D_ising(L::Int, J, maxbd::Int, bc::String, save::Bool)\n",
    "    \n",
    "    if bc == \"open\"\n",
    "        interactions = spinchain_open(L)\n",
    "    elseif bc == \"peri\"\n",
    "        interactions = spinchain_peri(L)\n",
    "    end\n",
    "    \n",
    "    sites = siteinds(\"S=1/2\",L)\n",
    "    println(\"\\nRunning DMRG for a length $L spin chain\\n\")\n",
    "    \n",
    "    # Build Hamiltonian\n",
    "    os = OpSum()\n",
    "    for k=1:ncol(interactions)\n",
    "        i = interactions[!,k][1][1]\n",
    "        j = interactions[!,k][1][2]\n",
    "        os += 4*J,\"Sz\",i,\"Sz\",j\n",
    "    end\n",
    "    H = MPO(os,sites)\n",
    "\n",
    "    psi0 = randomMPS(sites, 40)\n",
    "\n",
    "    sweeps = Sweeps(10)\n",
    "    setmaxdim!(sweeps, 10,20,100,100,maxbd)\n",
    "    setcutoff!(sweeps, 1E-10)\n",
    "\n",
    "    energy, psi = dmrg(H, psi0, sweeps, outputlevel=1);\n",
    "    energy_per_spin = energy / L\n",
    "    \n",
    "    energy_est = inner(psi',H,psi)\n",
    "    energy_per_spin_est = energy_est/L\n",
    "    \n",
    "    println(\"\\nA sample from the optimized MPS looks like:\\n\",sample(psi))\n",
    "    \n",
    "    if save   \n",
    "        f = h5open(\"../out/ising_fm_1d_L$(L)/sanity_check/init.hdf5\",\"w\") \n",
    "        write(f,\"psi\",psi)\n",
    "        close(f)\n",
    "    end\n",
    "    \n",
    "    for i =1:L\n",
    "        println(\"M\",i)\n",
    "        println(psi[i])\n",
    "    end\n",
    "    \n",
    "    return energy_per_spin, energy_per_spin_est, psi\n",
    "end"
   ]
  },
  {
   "cell_type": "code",
   "execution_count": 5,
   "id": "114e63ac",
   "metadata": {},
   "outputs": [
    {
     "data": {
      "text/plain": [
       "dmrg_1D_tfim (generic function with 1 method)"
      ]
     },
     "execution_count": 5,
     "metadata": {},
     "output_type": "execute_result"
    }
   ],
   "source": [
    "function dmrg_1D_tfim(L::Int, J, h, maxbd::Int, bc::String, save::Bool)\n",
    "    \n",
    "    if bc == \"open\"\n",
    "        interactions = spinchain_open(L)\n",
    "    elseif bc == \"peri\"\n",
    "        interactions = spinchain_peri(L)\n",
    "    end\n",
    "    \n",
    "    sites = siteinds(\"S=1/2\",L)\n",
    "    println(\"\\nRunning DMRG for a length $L spin chain\\n\")\n",
    "    \n",
    "    # Build Hamiltonian\n",
    "    os = OpSum()\n",
    "    for k=1:ncol(interactions)\n",
    "        i = interactions[!,k][1][1]\n",
    "        j = interactions[!,k][1][2]\n",
    "        os += 4*J,\"Sz\",i,\"Sz\",j\n",
    "    end\n",
    "    for k=1:L\n",
    "        os += 2*h,\"Sx\",k\n",
    "    end\n",
    "    H = MPO(os,sites)\n",
    "\n",
    "    psi0 = randomMPS(sites, 40)\n",
    "\n",
    "    sweeps = Sweeps(10)\n",
    "    setmaxdim!(sweeps, 10,20,100,100,maxbd)\n",
    "    setmindim!(sweeps,maxbd)\n",
    "    setcutoff!(sweeps, 1E-10)\n",
    "\n",
    "    energy, psi = dmrg(H, psi0, sweeps, outputlevel=1)\n",
    "    energy_per_spin = energy / L\n",
    "    \n",
    "    energy_est = inner(psi',H,psi)\n",
    "    energy_per_spin_est = energy_est/L\n",
    "    \n",
    "    if save\n",
    "        f = h5open(\"../out/ising_fm_1d_L$(L)_h1/init.hdf5\",\"w\") \n",
    "        write(f,\"psi\",psi)\n",
    "        close(f)\n",
    "    end\n",
    "    \n",
    "#     println(\"\")\n",
    "#     @show psi\n",
    "    \n",
    "    return energy_per_spin,energy_per_spin_est,psi\n",
    "end"
   ]
  },
  {
   "cell_type": "code",
   "execution_count": 6,
   "id": "3f86a145",
   "metadata": {},
   "outputs": [
    {
     "data": {
      "text/plain": [
       "dmrg_1D_heis (generic function with 1 method)"
      ]
     },
     "execution_count": 6,
     "metadata": {},
     "output_type": "execute_result"
    }
   ],
   "source": [
    "function dmrg_1D_heis(L::Int, J, maxbd::Int, bc::String, save::Bool)\n",
    "    \n",
    "    if bc == \"open\"\n",
    "        interactions = spinchain_open(L)\n",
    "    elseif bc == \"peri\"\n",
    "        interactions = spinchain_peri(L)\n",
    "    end\n",
    "    \n",
    "    sites = siteinds(\"S=1/2\",L)\n",
    "    println(\"\\nRunning DMRG for a length $L spin chain\\n\")\n",
    "    \n",
    "    # Build Hamiltonian\n",
    "    os = OpSum()\n",
    "    for k=1:ncol(interactions)\n",
    "        i = interactions[!,k][1][1]\n",
    "        j = interactions[!,k][1][2]\n",
    "    os += 4*J,\"Sz\",j,\"Sz\",k\n",
    "    os += 4*J/2,\"S+\",j,\"S-\",k\n",
    "    os += 4*J/2,\"S-\",j,\"S+\",k\n",
    "    end\n",
    "    H = MPO(os,sites)\n",
    "\n",
    "    psi0 = randomMPS(sites, 40)\n",
    "\n",
    "    sweeps = Sweeps(10)\n",
    "    setmaxdim!(sweeps, 10,20,100,100,maxbd)\n",
    "    setmindim!(sweeps, 10,20,100,100,maxbd)\n",
    "    setcutoff!(sweeps, 1E-10)\n",
    "\n",
    "    energy, psi = dmrg(H, psi0, sweeps, outputlevel=1)\n",
    "    energy_per_spin = energy / L\n",
    "        \n",
    "    if save   \n",
    "        f = h5open(\"../out/heis_afm_1d_L$(L)/init.hdf5\",\"w\") \n",
    "        write(f,\"psi\",psi)\n",
    "        close(f)\n",
    "    end\n",
    "        \n",
    "    return energy_per_spin, energy_per_spin, psi\n",
    "end"
   ]
  },
  {
   "cell_type": "markdown",
   "id": "06c9493b",
   "metadata": {},
   "source": [
    "# Try growing algo"
   ]
  },
  {
   "cell_type": "code",
   "execution_count": 7,
   "id": "da5ac017",
   "metadata": {
    "scrolled": true
   },
   "outputs": [
    {
     "data": {
      "text/plain": [
       "grow (generic function with 1 method)"
      ]
     },
     "execution_count": 7,
     "metadata": {},
     "output_type": "execute_result"
    }
   ],
   "source": [
    "function grow(smaller_psi,larger_psi)\n",
    "    \n",
    "    psi_s = deepcopy(smaller_psi)\n",
    "    psi_l = deepcopy(larger_psi)\n",
    "    N_s = length(psi_s)\n",
    "    N_l = length(psi_l)\n",
    "    \n",
    "    # Step 1: Get MPS in center canonical form with middle lambda\n",
    "    half_s = Int(N_s/2)\n",
    "    half_l = Int(N_l/2)\n",
    "    psi_s = orthogonalize(psi_s,half_s)\n",
    "    psi_l = orthogonalize(psi_l,half_l)\n",
    "    \n",
    "    combiner_s = combiner(siteind(psi_s,half_s),linkind(psi_s,half_s-1); tags=\"site, left link\")\n",
    "    combined_s = combinedind(combiner_s)\n",
    "    U_s,lambda_s,V_s = svd(psi_s[half_s]*combiner_s,combined_s,lefttags = \"alpha$half_s\",righttags = \"beta$half_s\");\n",
    "    U_s = dag(combiner_s) * U_s;\n",
    "    center_alpha_s,center_beta_s = inds(lambda_s);\n",
    "    inv_lambda_s = ITensor(inv(Matrix(lambda_s,center_alpha_s,center_beta_s)),center_beta_s,center_alpha_s);\n",
    "\n",
    "    combiner_ = combiner(siteind(psi_l,half_l),linkind(psi_l,half_l-1); tags=\"site, left link\")\n",
    "    combined_ = combinedind(combiner_)\n",
    "    U_l,lambda_l,V_l = svd(psi_l[half_l]*combiner_,combined_,lefttags = \"alpha$half_l\",righttags = \"beta$half_l\")\n",
    "    U_l = dag(combiner_) * U_l;\n",
    "\n",
    "    # Re-tag and Re-name matrices\n",
    "    link_left = commonind(psi_l[half_l - 1],U_l)\n",
    "    center_alpha = Index(dim(link_left),\"alpha$half_s\")\n",
    "    link_right = commonind(V_l*psi_l[half_l + 1],psi_l[half_l + 2])\n",
    "    center_beta = Index(dim(link_right),\"beta$half_s\")\n",
    "            \n",
    "    replaceind!(inv_lambda_s,center_beta_s,center_beta)\n",
    "    replaceind!(inv_lambda_s,center_alpha_s,center_alpha)\n",
    "\n",
    "    AR2 = replaceind!(psi_l[half_l - 1],link_left,center_alpha)\n",
    "    AR1 = replaceind!(U_l,link_left,center_alpha)\n",
    "    BL1 = replaceind!(V_l*psi_l[half_l + 1],link_right,center_beta)\n",
    "    BL2 = replaceind!(psi_l[half_l + 2],link_right,center_beta)\n",
    "    \n",
    "    sitepR = prime(inds(BL1,\"Site\")[1])\n",
    "    BR = replaceind(BL1,inds(BL1,\"Site\")[1],sitepR)\n",
    "    sitepL = prime(inds(AR1,\"Site\")[1])\n",
    "    AL = replaceind(AR1,inds(AR1,\"Site\")[1],sitepL)\n",
    "    \n",
    "    # Stitch together the new MPS\n",
    "    new_MPS = MPS(N_l + 2)\n",
    "    N_new = length(new_MPS)\n",
    "    \n",
    "    for i in 1:(half_l-2)\n",
    "        new_MPS[i] = psi_l[i]\n",
    "    end\n",
    "    \n",
    "    rightlink = inds(AR2,\"alpha$(half_l-1)\")[1]\n",
    "    newrightlink = Index(dim(rightlink),\"Link,l=$(half_l-1)\")\n",
    "    new_MPS[half_l-1] = replaceind(AR2,rightlink,newrightlink)\n",
    "    \n",
    "    leftlink = rightlink\n",
    "    newleftlink = newrightlink\n",
    "    rightlink = inds(AR1*lambda_l,\"beta$(half_l)\")[1]\n",
    "    newrightlink = Index(dim(rightlink),\"Link,l=$(half_l)\")\n",
    "    new_MPS[half_l] = replaceinds(AR1*lambda_l,(leftlink,rightlink),(newleftlink,newrightlink))\n",
    "    \n",
    "    leftlink = rightlink\n",
    "    newleftlink = newrightlink\n",
    "    rightlink = inds(BR*inv_lambda_s,\"alpha$(half_l-1)\")[1]\n",
    "    newrightlink = Index(dim(rightlink),\"Link,l=$(half_l+1)\")\n",
    "    site = inds(noprime(BR*inv_lambda_s),\"Site\")[1]\n",
    "    newsiteind = Index(dim(site),\"S=1/2,Site,n=$(half_l+1)\")\n",
    "    new_MPS[half_l+1] = replaceinds(noprime(BR*inv_lambda_s),(leftlink,rightlink,site),(newleftlink,newrightlink,newsiteind))\n",
    "\n",
    "    leftlink = rightlink\n",
    "    newleftlink = newrightlink\n",
    "    rightlink = inds(AL*lambda_l,\"beta$(half_l)\")[1]\n",
    "    newrightlink = Index(dim(rightlink),\"Link,l=$(half_l+2)\")\n",
    "    site = inds(noprime(AL*lambda_l),\"Site\")[1]\n",
    "    newsiteind = Index(dim(site),\"S=1/2,Site,n=$(half_l+2)\")\n",
    "    new_MPS[half_l+2] = replaceinds(noprime(AL*lambda_l),(leftlink,rightlink,site),(newleftlink,newrightlink,newsiteind))\n",
    "\n",
    "    leftlink = rightlink\n",
    "    newleftlink = newrightlink\n",
    "    rightlink = inds(BL1,\"beta$(half_l-1)\")[1]\n",
    "    newrightlink = Index(dim(rightlink),\"Link,l=$(half_l+3)\")\n",
    "    site = inds(BL1,\"Site\")[1]\n",
    "    newsiteind = Index(dim(site),\"S=1/2,Site,n=$(half_l+3)\")\n",
    "    new_MPS[half_l+3] = replaceinds(BL1,(leftlink,rightlink,site),(newleftlink,newrightlink,newsiteind))\n",
    "\n",
    "    # need to add a flag for if this is the last site ...\n",
    "    leftlink = rightlink\n",
    "    newleftlink = newrightlink\n",
    "    rightlink = inds(BL2,\"Link,l=$(half_l+2)\")[1]\n",
    "    newrightlink = Index(dim(rightlink),\"Link,l=$(half_l+4)\")\n",
    "    site = inds(BL2,\"Site\")[1]\n",
    "    newsiteind = Index(dim(site),\"S=1/2,Site,n=$(half_l+4)\")\n",
    "    new_MPS[half_l+4] = replaceinds(BL2,(leftlink,rightlink,site),(newleftlink,newrightlink,newsiteind))\n",
    "    \n",
    "#     println(norm(new_MPS[half_l-1]*new_MPS[half_l]*new_MPS[half_l+1]*new_MPS[half_l+2]*new_MPS[half_l+3]*new_MPS[half_l+4]))\n",
    "#     println(norm(AR2*AR1*lambda_l*BR*inv_lambda_s*AL*lambda_l*BL1*BL2))\n",
    "    \n",
    "    for i in (half_l+3):N_l\n",
    "        siteind = inds(psi_l[i],\"Site\")[1]\n",
    "        newsiteind = Index(dim(siteind),\"S=1/2,Site,n=$(i+2)\")\n",
    "        leftlink = rightlink\n",
    "        newleftlink = newrightlink\n",
    "        new_MPS[i+2] = replaceinds(psi_l[i],(siteind,leftlink),(newsiteind,newleftlink))\n",
    "        if i < N_l\n",
    "            rightlink = inds(psi_l[i],\"l=$(i)\")[1]\n",
    "            newrightlink = Index(dim(rightlink),\"Link,l=$(i+2)\")\n",
    "            new_MPS[i+2] = replaceind!(new_MPS[i+2],rightlink,newrightlink)\n",
    "        end\n",
    "    end\n",
    "        \n",
    "    return new_MPS\n",
    "end"
   ]
  },
  {
   "cell_type": "code",
   "execution_count": 18,
   "id": "d34fb70c",
   "metadata": {},
   "outputs": [
    {
     "data": {
      "text/plain": [
       "grow_MPS (generic function with 1 method)"
      ]
     },
     "execution_count": 18,
     "metadata": {},
     "output_type": "execute_result"
    }
   ],
   "source": [
    "function grow_MPS(L_original,L_final,save::Bool)\n",
    "    \n",
    "    n_grows = Int((L_final-L_original)/2)    \n",
    "#     _,_,psi0 = dmrg_1D_heis((L_original-2),1.,5,\"open\",false);\n",
    "#     _,_,psi1 = dmrg_1D_heis(L_original,1.,5,\"open\",true);\n",
    "    _,_,psi0 = dmrg_1D_tfim((L_original-2),-1.,-1.,2,\"open\",false);\n",
    "    _,_,psi1 = dmrg_1D_tfim(L_original,-1.,-1.,2,\"open\",true);\n",
    "    \n",
    "    for n in 1:n_grows\n",
    "        psi_new = grow(psi0,psi1)\n",
    "        psi0 = psi1\n",
    "        psi1 = psi_new\n",
    "    end\n",
    "    \n",
    "    if save\n",
    "        f = h5open(\"../out/ising_fm_1d_L$(L_original)_h1/init_$(L_final).hdf5\",\"w\") \n",
    "#         f = h5open(\"../out/heis_afm_1d_L$(L_original)/init_$(L_final).hdf5\",\"w\") \n",
    "        write(f,\"psi\",psi1)\n",
    "        close(f)\n",
    "    end\n",
    "    \n",
    "    return psi1\n",
    "end"
   ]
  },
  {
   "cell_type": "code",
   "execution_count": 21,
   "id": "6d111b8d",
   "metadata": {},
   "outputs": [
    {
     "name": "stdout",
     "output_type": "stream",
     "text": [
      "\n",
      "Running DMRG for a length 8 spin chain\n",
      "\n",
      "After sweep 1 energy=-9.734486113385838  maxlinkdim=10 maxerr=1.71E-04 time=0.014\n",
      "After sweep 2 energy=-9.837621425487693  maxlinkdim=15 maxerr=4.94E-11 time=0.013\n",
      "After sweep 3 energy=-9.837951420486217  maxlinkdim=7 maxerr=7.66E-11 time=0.013\n",
      "After sweep 4 energy=-9.837951446196266  maxlinkdim=6 maxerr=7.06E-11 time=0.029\n",
      "After sweep 5 energy=-9.832706741056095  maxlinkdim=2 maxerr=3.10E-04 time=0.008\n",
      "After sweep 6 energy=-9.832729175527705  maxlinkdim=2 maxerr=2.29E-04 time=0.008\n",
      "After sweep 7 energy=-9.832729468327724  maxlinkdim=2 maxerr=2.29E-04 time=0.007\n",
      "After sweep 8 energy=-9.832729472751277  maxlinkdim=2 maxerr=2.29E-04 time=0.009\n",
      "After sweep 9 energy=-9.832729472819505  maxlinkdim=2 maxerr=2.29E-04 time=0.007\n",
      "After sweep 10 energy=-9.832729472820567  maxlinkdim=2 maxerr=2.29E-04 time=0.010\n",
      "\n",
      "Running DMRG for a length 10 spin chain\n",
      "\n",
      "After sweep 1 energy=-12.360654630285262  maxlinkdim=10 maxerr=3.84E-04 time=0.025\n",
      "After sweep 2 energy=-12.381476089088867  maxlinkdim=13 maxerr=9.34E-11 time=0.011\n",
      "After sweep 3 energy=-12.38148999617965  maxlinkdim=9 maxerr=1.00E-10 time=0.011\n",
      "After sweep 4 energy=-12.381489996639445  maxlinkdim=8 maxerr=7.37E-11 time=0.011\n",
      "After sweep 5 energy=-12.37177393158834  maxlinkdim=2 maxerr=4.52E-04 time=0.023\n",
      "After sweep 6 energy=-12.371859512967951  maxlinkdim=2 maxerr=2.89E-04 time=0.010\n",
      "After sweep 7 energy=-12.371861573925163  maxlinkdim=2 maxerr=2.87E-04 time=0.009\n",
      "After sweep 8 energy=-12.371861631822707  maxlinkdim=2 maxerr=2.87E-04 time=0.010\n",
      "After sweep 9 energy=-12.371861633476318  maxlinkdim=2 maxerr=2.87E-04 time=0.011\n",
      "After sweep 10 energy=-12.371861633523679  maxlinkdim=2 maxerr=2.87E-04 time=0.010\n"
     ]
    },
    {
     "data": {
      "text/plain": [
       "MPS\n",
       "[1] ((dim=2|id=647|\"S=1/2,Site,n=1\"), (dim=2|id=778|\"Link,l=1\"))\n",
       "[2] ((dim=2|id=400|\"S=1/2,Site,n=2\"), (dim=2|id=778|\"Link,l=1\"), (dim=2|id=387|\"Link,l=2\"))\n",
       "[3] ((dim=2|id=578|\"S=1/2,Site,n=3\"), (dim=2|id=387|\"Link,l=2\"), (dim=2|id=997|\"Link,l=3\"))\n",
       "[4] ((dim=2|id=519|\"S=1/2,Site,n=4\"), (dim=2|id=997|\"Link,l=3\"), (dim=2|id=508|\"Link,l=4\"))\n",
       "[5] ((dim=2|id=950|\"S=1/2,Site,n=5\"), (dim=2|id=508|\"Link,l=4\"), (dim=2|id=767|\"Link,l=5\"))\n",
       "[6] ((dim=2|id=324|\"S=1/2,Site,n=6\"), (dim=2|id=767|\"Link,l=5\"), (dim=2|id=942|\"Link,l=6\"))\n",
       "[7] ((dim=2|id=975|\"S=1/2,Site,n=7\"), (dim=2|id=942|\"Link,l=6\"), (dim=2|id=386|\"Link,l=7\"))\n",
       "[8] ((dim=2|id=873|\"S=1/2,Site,n=8\"), (dim=2|id=386|\"Link,l=7\"), (dim=2|id=61|\"Link,l=8\"))\n",
       "[9] ((dim=2|id=198|\"S=1/2,Site,n=9\"), (dim=2|id=61|\"Link,l=8\"), (dim=2|id=579|\"Link,l=9\"))\n",
       "[10] ((dim=2|id=579|\"Link,l=9\"), (dim=2|id=806|\"S=1/2,Site,n=10\"), (dim=2|id=638|\"Link,l=10\"))\n",
       "[11] ((dim=2|id=781|\"S=1/2,Site,n=11\"), (dim=2|id=638|\"Link,l=10\"), (dim=2|id=493|\"Link,l=11\"))\n",
       "[12] ((dim=2|id=493|\"Link,l=11\"), (dim=2|id=343|\"S=1/2,Site,n=12\"), (dim=2|id=868|\"Link,l=12\"))\n",
       "[13] ((dim=2|id=82|\"S=1/2,Site,n=13\"), (dim=2|id=562|\"Link,l=13\"), (dim=2|id=868|\"Link,l=12\"))\n",
       "[14] ((dim=2|id=884|\"S=1/2,Site,n=14\"), (dim=2|id=149|\"Link,l=14\"), (dim=2|id=562|\"Link,l=13\"))\n",
       "[15] ((dim=2|id=817|\"S=1/2,Site,n=15\"), (dim=2|id=910|\"Link,l=15\"), (dim=2|id=149|\"Link,l=14\"))\n",
       "[16] ((dim=2|id=257|\"S=1/2,Site,n=16\"), (dim=2|id=758|\"Link,l=16\"), (dim=2|id=910|\"Link,l=15\"))\n",
       "[17] ((dim=2|id=862|\"S=1/2,Site,n=17\"), (dim=2|id=848|\"Link,l=17\"), (dim=2|id=758|\"Link,l=16\"))\n",
       "[18] ((dim=2|id=294|\"S=1/2,Site,n=18\"), (dim=2|id=61|\"Link,l=18\"), (dim=2|id=848|\"Link,l=17\"))\n",
       "[19] ((dim=2|id=366|\"S=1/2,Site,n=19\"), (dim=2|id=442|\"Link,l=19\"), (dim=2|id=61|\"Link,l=18\"))\n",
       "[20] ((dim=2|id=94|\"S=1/2,Site,n=20\"), (dim=2|id=442|\"Link,l=19\"))\n"
      ]
     },
     "execution_count": 21,
     "metadata": {},
     "output_type": "execute_result"
    }
   ],
   "source": [
    "psi = grow_MPS(10,20,true)"
   ]
  },
  {
   "cell_type": "code",
   "execution_count": 25,
   "id": "f1f15ccc",
   "metadata": {},
   "outputs": [
    {
     "name": "stdout",
     "output_type": "stream",
     "text": [
      "MPS\n",
      "[1] ((dim=2|id=647|\"S=1/2,Site,n=1\"), (dim=1|id=743|\"Link,l=1\"))\n",
      "[2] ((dim=1|id=743|\"Link,l=1\"), (dim=2|id=400|\"S=1/2,Site,n=2\"), (dim=1|id=326|\"Link,l=2\"))\n",
      "[3] ((dim=1|id=326|\"Link,l=2\"), (dim=2|id=578|\"S=1/2,Site,n=3\"), (dim=1|id=914|\"Link,l=3\"))\n",
      "[4] ((dim=1|id=914|\"Link,l=3\"), (dim=2|id=519|\"S=1/2,Site,n=4\"), (dim=1|id=719|\"Link,l=4\"))\n",
      "[5] ((dim=1|id=719|\"Link,l=4\"), (dim=2|id=950|\"S=1/2,Site,n=5\"), (dim=1|id=514|\"Link,l=5\"))\n",
      "[6] ((dim=1|id=514|\"Link,l=5\"), (dim=2|id=324|\"S=1/2,Site,n=6\"), (dim=1|id=904|\"Link,l=6\"))\n",
      "[7] ((dim=1|id=904|\"Link,l=6\"), (dim=2|id=975|\"S=1/2,Site,n=7\"), (dim=1|id=337|\"Link,l=7\"))\n",
      "[8] ((dim=1|id=337|\"Link,l=7\"), (dim=2|id=873|\"S=1/2,Site,n=8\"), (dim=1|id=115|\"Link,l=8\"))\n",
      "[9] ((dim=1|id=115|\"Link,l=8\"), (dim=2|id=198|\"S=1/2,Site,n=9\"), (dim=1|id=527|\"Link,l=9\"))\n",
      "[10] ((dim=1|id=527|\"Link,l=9\"), (dim=2|id=806|\"S=1/2,Site,n=10\"), (dim=1|id=73|\"Link,l=10\"))\n",
      "[11] ((dim=1|id=73|\"Link,l=10\"), (dim=2|id=781|\"S=1/2,Site,n=11\"), (dim=1|id=182|\"Link,l=11\"))\n",
      "[12] ((dim=1|id=182|\"Link,l=11\"), (dim=2|id=343|\"S=1/2,Site,n=12\"), (dim=1|id=3|\"Link,l=12\"))\n",
      "[13] ((dim=1|id=3|\"Link,l=12\"), (dim=2|id=82|\"S=1/2,Site,n=13\"), (dim=1|id=555|\"Link,l=13\"))\n",
      "[14] ((dim=1|id=555|\"Link,l=13\"), (dim=2|id=884|\"S=1/2,Site,n=14\"), (dim=1|id=50|\"Link,l=14\"))\n",
      "[15] ((dim=1|id=50|\"Link,l=14\"), (dim=2|id=817|\"S=1/2,Site,n=15\"), (dim=1|id=112|\"Link,l=15\"))\n",
      "[16] ((dim=1|id=112|\"Link,l=15\"), (dim=2|id=257|\"S=1/2,Site,n=16\"), (dim=1|id=214|\"Link,l=16\"))\n",
      "[17] ((dim=1|id=214|\"Link,l=16\"), (dim=2|id=862|\"S=1/2,Site,n=17\"), (dim=1|id=642|\"Link,l=17\"))\n",
      "[18] ((dim=1|id=642|\"Link,l=17\"), (dim=2|id=294|\"S=1/2,Site,n=18\"), (dim=1|id=297|\"Link,l=18\"))\n",
      "[19] ((dim=1|id=297|\"Link,l=18\"), (dim=2|id=366|\"S=1/2,Site,n=19\"), (dim=1|id=843|\"Link,l=19\"))\n",
      "[20] ((dim=1|id=843|\"Link,l=19\"), (dim=2|id=94|\"S=1/2,Site,n=20\"))\n",
      "\n"
     ]
    }
   ],
   "source": []
  },
  {
   "cell_type": "markdown",
   "id": "c0f3b9d5",
   "metadata": {},
   "source": [
    "# Test Grow Algo"
   ]
  },
  {
   "cell_type": "code",
   "execution_count": null,
   "id": "36578361",
   "metadata": {
    "scrolled": true
   },
   "outputs": [],
   "source": [
    "_,_,psi0 = dmrg_1D_tfim(8,-1.,-1.,2,\"open\",false);\n",
    "psi1 = deepcopy(psi10);"
   ]
  },
  {
   "cell_type": "code",
   "execution_count": null,
   "id": "a67a9fa9",
   "metadata": {},
   "outputs": [],
   "source": [
    "for n in 1:5\n",
    "    println(n)\n",
    "    psi_new = grow(psi0,psi1)\n",
    "    psi0 = psi1\n",
    "    psi1 = psi_new\n",
    "    @show inds(psi1)\n",
    "end"
   ]
  },
  {
   "cell_type": "code",
   "execution_count": null,
   "id": "f14f478a",
   "metadata": {},
   "outputs": [],
   "source": [
    "@show psi1"
   ]
  },
  {
   "cell_type": "code",
   "execution_count": null,
   "id": "a73c74ef",
   "metadata": {},
   "outputs": [],
   "source": []
  },
  {
   "cell_type": "markdown",
   "id": "1d5265a8",
   "metadata": {},
   "source": [
    "# Step 1: Obtain wavefunction for a 2-site lattice and a 4-site lattice. "
   ]
  },
  {
   "cell_type": "code",
   "execution_count": null,
   "id": "3f632ad3",
   "metadata": {
    "scrolled": true
   },
   "outputs": [],
   "source": [
    "_,_,psi0 = dmrg_1D_ising(2,-1,2,\"open\",false)\n",
    "_,_,psi1 = dmrg_1D_ising(4,-1,2,\"open\",false);\n",
    "\n",
    "println(\"\")\n",
    "println(\"INDICES\")\n",
    "println(inds(psi0))\n",
    "println(inds(psi1))"
   ]
  },
  {
   "cell_type": "markdown",
   "id": "65bd4285",
   "metadata": {},
   "source": [
    "These MPS are returned in left-canonical form by the DMRG function, but we need them to be in center canonical form."
   ]
  },
  {
   "cell_type": "code",
   "execution_count": null,
   "id": "bc439ec0",
   "metadata": {},
   "outputs": [],
   "source": [
    "N0 = 2\n",
    "half0 = Int(N0/2)\n",
    "psi0 = orthogonalize!(psi0,half0)\n",
    "U0,lambda0,V0 = svd(psi0[half0],siteind(psi0,half0),lefttags = \"alpha1\",righttags = \"beta1\");\n",
    "\n",
    "\n",
    "println(\"----New MPS----\")\n",
    "println(inds(U0))\n",
    "println(inds(lambda0))\n",
    "println(inds(V0*psi0[2]))"
   ]
  },
  {
   "cell_type": "code",
   "execution_count": null,
   "id": "34a5d138",
   "metadata": {},
   "outputs": [],
   "source": [
    "N1 = 4\n",
    "half1 = Int(N1/2)\n",
    "psi1 = orthogonalize!(psi1,half1)\n",
    "combiner_ = combiner(siteind(psi1,half1),linkind(psi1,half1-1); tags=\"site, left link\")\n",
    "combined_ = combinedind(combiner_)\n",
    "U1,lambda1,V1 = svd(psi1[half1]*combiner_,combined_,lefttags = \"alpha2\",righttags = \"beta2\")\n",
    "U1 = dag(combiner_) * U1;\n",
    "\n",
    "println(\"----New MPS----\")\n",
    "println(inds(psi1[1]))\n",
    "println(inds(U1))\n",
    "println(inds(lambda1))\n",
    "println(inds(V1*psi1[3]))\n",
    "println(inds(psi1[4]))"
   ]
  },
  {
   "cell_type": "markdown",
   "id": "fa93e6ac",
   "metadata": {},
   "source": [
    "Now these matrices are in the correct form:\n",
    "- $\\vert \\Psi_0\\rangle = A_0 \\Lambda_0 B_0$\n",
    "- $\\vert \\Psi_1\\rangle = A_0 A_1 \\Lambda_1 B_1 B_0$"
   ]
  },
  {
   "cell_type": "markdown",
   "id": "6507f981",
   "metadata": {},
   "source": [
    "# Ian's Method"
   ]
  },
  {
   "cell_type": "markdown",
   "id": "a6519075",
   "metadata": {},
   "source": [
    "Step 2 & 3: Rotate the center matrix of $\\vert \\Psi_1\\rangle$ one step to the left and rotate the same center matrix one step to the right."
   ]
  },
  {
   "cell_type": "markdown",
   "id": "54a6a984",
   "metadata": {},
   "source": [
    "Step 2 (rotate to the left):"
   ]
  },
  {
   "cell_type": "code",
   "execution_count": null,
   "id": "5c0eb237",
   "metadata": {},
   "outputs": [],
   "source": [
    "j_ = 1\n",
    "psi1L = orthogonalize(psi1,j_)\n",
    "UL,lambdaL,VL = svd(psi1L[j_],siteind(psi1L,j_),lefttags = \"alpha1\",righttags = \"alpha2\")\n",
    "M1 = UL\n",
    "B2 = VL*psi1L[2]\n",
    "B1 = psi1L[3]\n",
    "B0 = psi1L[4]\n",
    "println(\"----New----\")\n",
    "println(inds(M1))\n",
    "println(inds(lambdaL))\n",
    "println(inds(B2))\n",
    "println(inds(B1))\n",
    "println(inds(B0))\n",
    "println(\"---Check full contraction---\")\n",
    "println(M1*lambdaL*B2*B1*B0)"
   ]
  },
  {
   "cell_type": "markdown",
   "id": "df7e9b33",
   "metadata": {},
   "source": [
    "Step 3 (rotate to the right):"
   ]
  },
  {
   "cell_type": "code",
   "execution_count": null,
   "id": "7dd337cb",
   "metadata": {
    "scrolled": false
   },
   "outputs": [],
   "source": [
    "j_ = 4\n",
    "psi1R = orthogonalize(psi1,j_)\n",
    "UR,lambdaR,VR = svd(psi1R[j_],linkind(psi1R,j_-1),lefttags=\"beta2\",righttags=\"beta1\")\n",
    "A0 = psi1R[1]\n",
    "A1 = psi1R[2]\n",
    "A2 = psi1R[3]*UR\n",
    "M4 = VR\n",
    "println(\"----New----\")\n",
    "println(inds(A0))\n",
    "println(inds(A1))\n",
    "println(inds(A2))\n",
    "println(inds(lambdaR))\n",
    "println(inds(M4))\n",
    "println(\"---Check full contraction---\")\n",
    "println(A0*A1*A2*lambdaR*M4)"
   ]
  },
  {
   "cell_type": "markdown",
   "id": "658ec225",
   "metadata": {},
   "source": [
    "Step 4: Stitch together new MPS which has been grown by two sites."
   ]
  },
  {
   "cell_type": "code",
   "execution_count": null,
   "id": "b3a235d4",
   "metadata": {},
   "outputs": [],
   "source": [
    "# println(inds(lambdaL,\"alpha1\")[1])\n",
    "# println(inds(lambdaR,\"beta1\")[1])\n",
    "\n",
    "alpha1_0,beta1_0 = inds(lambda0);\n",
    "inv_lambda0 = ITensor(inv(Matrix(lambda0,alpha1_0,beta1_0)),beta1_0,alpha1_0);\n",
    "\n",
    "println(inds(inv_lambda0))\n",
    "inv_lambda0 = replaceind!(inv_lambda0,inds(lambda0,\"beta1\")[1],inds(lambdaR,\"beta1\")[1])\n",
    "println(inds(inv_lambda0))\n",
    "inv_lambda0 = replaceind!(inv_lambda0,inds(lambda0,\"alpha1\")[1],inds(lambdaL,\"alpha1\")[1])\n",
    "println(inds(inv_lambda0))"
   ]
  },
  {
   "cell_type": "code",
   "execution_count": null,
   "id": "fd1abb89",
   "metadata": {},
   "outputs": [],
   "source": [
    "println(inds(B2,\"Site\")[1])\n",
    "site2p = prime(inds(B2,\"Site\")[1])\n",
    "B2R = replaceind(B2,inds(B2,\"Site\")[1],site2p)\n",
    "println(B2R)\n",
    "println(B2)"
   ]
  },
  {
   "cell_type": "code",
   "execution_count": null,
   "id": "67714e7a",
   "metadata": {},
   "outputs": [],
   "source": [
    "println(inds(B1,\"Site\")[1])\n",
    "site3p = prime(inds(B1,\"Site\")[1])\n",
    "B1R = replaceind(B1,inds(B1,\"Site\")[1],site3p)\n",
    "println(B1R)\n",
    "println(B1)"
   ]
  },
  {
   "cell_type": "code",
   "execution_count": null,
   "id": "b03ef1df",
   "metadata": {},
   "outputs": [],
   "source": [
    "println(\"---Check full contraction---\")\n",
    "Ian_T = A0*A1*A2*lambdaR*inv_lambda0*lambdaL*B2R*B1R*B0;\n",
    "println(norm(Ian_T))\n",
    "println(Ian_T)"
   ]
  },
  {
   "cell_type": "markdown",
   "id": "d282b609",
   "metadata": {},
   "source": [
    "# Miles' method"
   ]
  },
  {
   "cell_type": "code",
   "execution_count": null,
   "id": "580051e7",
   "metadata": {},
   "outputs": [],
   "source": [
    "link1 = commonind(psi1[1],U1)\n",
    "alpha1 = Index(dim(link1),\"alpha1\")\n",
    "link3 = commonind(V1*psi1[3],psi1[4])\n",
    "beta1 = Index(dim(link3),\"beta1\")\n",
    "\n",
    "println(beta1,alpha1)"
   ]
  },
  {
   "cell_type": "code",
   "execution_count": null,
   "id": "8994be53",
   "metadata": {},
   "outputs": [],
   "source": [
    "alpha1_0,beta1_0 = inds(lambda0);\n",
    "inv_lambda0 = ITensor(inv(Matrix(lambda0,alpha1_0,beta1_0)),beta1_0,alpha1_0);\n",
    "\n",
    "println(inds(inv_lambda0))\n",
    "inv_lambda0 = replaceind!(inv_lambda0,beta1_0,beta1)\n",
    "println(inds(inv_lambda0))\n",
    "inv_lambda0 = replaceind!(inv_lambda0,alpha1_0,alpha1)\n",
    "println(inds(inv_lambda0))"
   ]
  },
  {
   "cell_type": "code",
   "execution_count": null,
   "id": "830d1e48",
   "metadata": {},
   "outputs": [],
   "source": [
    "A1 = replaceind!(psi1[1],link1,alpha1)\n",
    "A2 = replaceind!(U1,link1,alpha1)\n",
    "B2 = replaceind!(V1*psi1[3],link3,beta1)\n",
    "B1 = replaceind!(psi1[4],link3,beta1)\n",
    "\n",
    "println(\"----New----\")\n",
    "println(inds(A1))\n",
    "println(inds(A2))\n",
    "println(inds(lambda1))\n",
    "println(inds(B2))\n",
    "println(inds(B1))\n",
    "# println(\"----Old-----\")\n",
    "# println(psi1[1],psi1[2],psi1[3],psi1[4])\n",
    "# println(\"----Compare Old & New----\")\n",
    "# println(psi1[1]*U1*lambda1*V1*psi1[3]*psi1[4])\n",
    "# println(psi1[1]*psi1[2]*psi1[3]*psi1[4])"
   ]
  },
  {
   "cell_type": "code",
   "execution_count": null,
   "id": "71b5a434",
   "metadata": {},
   "outputs": [],
   "source": [
    "site3p = prime(inds(B2,\"Site\")[1])\n",
    "B2R = replaceind(B2,inds(B2,\"Site\")[1],site3p)\n",
    "println(B2R)\n",
    "println(B2)"
   ]
  },
  {
   "cell_type": "code",
   "execution_count": null,
   "id": "825ceaea",
   "metadata": {},
   "outputs": [],
   "source": [
    "# println(inds(A2,\"Site\")[1])\n",
    "site2p = prime(inds(A2,\"Site\")[1])\n",
    "A2R = replaceind(A2,inds(A2,\"Site\")[1],site2p)\n",
    "println(A2R)\n",
    "println(A2)"
   ]
  },
  {
   "cell_type": "code",
   "execution_count": null,
   "id": "c6b0bf19",
   "metadata": {},
   "outputs": [],
   "source": [
    "println(inds(A1))\n",
    "println(inds(A2))\n",
    "println(inds(lambda1))\n",
    "println(inds(B2))\n",
    "println(inds(inv_lambda0))\n",
    "println(inds(A2))\n",
    "println(inds(lambda1))\n",
    "println(inds(B2))\n",
    "println(inds(B1))"
   ]
  },
  {
   "cell_type": "code",
   "execution_count": null,
   "id": "c9c6f29c",
   "metadata": {},
   "outputs": [],
   "source": [
    "println(\"---Check full contraction---\")\n",
    "Miles_T = A1*A2*lambda1*B2R*inv_lambda0*A2R*lambda1*B2*B1\n",
    "println(norm(Miles_T))\n",
    "println(Miles_T)"
   ]
  },
  {
   "cell_type": "code",
   "execution_count": null,
   "id": "2f5647c0",
   "metadata": {},
   "outputs": [],
   "source": []
  },
  {
   "cell_type": "code",
   "execution_count": null,
   "id": "1607206e",
   "metadata": {},
   "outputs": [],
   "source": []
  }
 ],
 "metadata": {
  "kernelspec": {
   "display_name": "Julia 1.9.3",
   "language": "julia",
   "name": "julia-1.9"
  },
  "language_info": {
   "file_extension": ".jl",
   "mimetype": "application/julia",
   "name": "julia",
   "version": "1.9.3"
  }
 },
 "nbformat": 4,
 "nbformat_minor": 5
}
