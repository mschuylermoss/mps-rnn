{
 "cells": [
  {
   "cell_type": "code",
   "execution_count": 1,
   "id": "fa1fc69b",
   "metadata": {},
   "outputs": [
    {
     "name": "stderr",
     "output_type": "stream",
     "text": [
      "\u001b[36m\u001b[1m[ \u001b[22m\u001b[39m\u001b[36m\u001b[1mInfo: \u001b[22m\u001b[39mInstalling julia_ITensors kernelspec in /Users/mschuylerm/Library/Jupyter/kernels/julia_itensors-1.9\n"
     ]
    },
    {
     "data": {
      "text/plain": [
       "\"/Users/mschuylerm/Library/Jupyter/kernels/julia_itensors-1.9\""
      ]
     },
     "execution_count": 1,
     "metadata": {},
     "output_type": "execute_result"
    }
   ],
   "source": [
    "using IJulia\n",
    "installkernel(\"julia_ITensors\",\"--sysimage=~/.julia/sysimages/sys_itensors.so\")"
   ]
  },
  {
   "cell_type": "code",
   "execution_count": 2,
   "id": "bb897657",
   "metadata": {},
   "outputs": [],
   "source": [
    "using ITensors\n",
    "using ITensors.HDF5\n",
    "using DataFrames"
   ]
  },
  {
   "cell_type": "markdown",
   "id": "be5c1330",
   "metadata": {},
   "source": [
    "# Square Lattice"
   ]
  },
  {
   "cell_type": "code",
   "execution_count": 3,
   "id": "f0aeb6b2",
   "metadata": {},
   "outputs": [
    {
     "data": {
      "text/plain": [
       "square_lattice (generic function with 1 method)"
      ]
     },
     "execution_count": 3,
     "metadata": {},
     "output_type": "execute_result"
    }
   ],
   "source": [
    "function square_lattice(Nx::Int, Ny::Int; yperiodic=false)::Lattice\n",
    "  yperiodic = yperiodic && (Ny > 2)\n",
    "  N = Nx * Ny\n",
    "  Nbond = 2N - Ny + (yperiodic ? 0 : -Nx)\n",
    "  latt = Lattice(undef, Nbond)\n",
    "  b = 0\n",
    "  for n in 1:N\n",
    "    x = div(n - 1, Ny) + 1\n",
    "    y = mod(n - 1, Ny) + 1\n",
    "    if x < Nx\n",
    "      latt[b += 1] = LatticeBond(n, n + Ny, x, y, x + 1, y)\n",
    "    end\n",
    "    if Ny > 1\n",
    "      if y < Ny\n",
    "        latt[b += 1] = LatticeBond(n, n + 1, x, y, x, y + 1)\n",
    "      end\n",
    "      if yperiodic && y == 1\n",
    "        latt[b += 1] = LatticeBond(n, n + Ny - 1, x, y, x, y + Ny - 1)\n",
    "      end\n",
    "    end\n",
    "  end\n",
    "  return latt\n",
    "end"
   ]
  },
  {
   "cell_type": "markdown",
   "id": "abec4c8a",
   "metadata": {},
   "source": [
    "# Triangular Lattice"
   ]
  },
  {
   "cell_type": "code",
   "execution_count": 4,
   "id": "702564f5",
   "metadata": {},
   "outputs": [
    {
     "data": {
      "text/plain": [
       "triangular_lattice (generic function with 1 method)"
      ]
     },
     "execution_count": 4,
     "metadata": {},
     "output_type": "execute_result"
    }
   ],
   "source": [
    "function triangular_lattice(Nx::Int, Ny::Int; yperiodic=false)::Lattice\n",
    "  yperiodic = yperiodic && (Ny > 2)\n",
    "  N = Nx * Ny\n",
    "  Nbond = 3N - 2Ny + (yperiodic ? 0 : -2Nx + 1)\n",
    "  latt = Lattice(undef, Nbond)\n",
    "  b = 0\n",
    "  for n in 1:N\n",
    "    x = div(n - 1, Ny) + 1\n",
    "    y = mod(n - 1, Ny) + 1\n",
    "\n",
    "    # x-direction bonds\n",
    "    if x < Nx\n",
    "      latt[b += 1] = LatticeBond(n, n + Ny)\n",
    "    end\n",
    "\n",
    "    # 2d bonds\n",
    "    if Ny > 1\n",
    "      # vertical / y-periodic diagonal bond\n",
    "      if (n + 1 <= N) && ((y < Ny) || yperiodic)\n",
    "        latt[b += 1] = LatticeBond(n, n + 1)\n",
    "      end\n",
    "      # periodic vertical bond\n",
    "      if yperiodic && y == 1\n",
    "        latt[b += 1] = LatticeBond(n, n + Ny - 1)\n",
    "      end\n",
    "      # diagonal bonds\n",
    "      if x < Nx && y < Ny\n",
    "        latt[b += 1] = LatticeBond(n, n + Ny + 1)\n",
    "      end\n",
    "    end\n",
    "  end\n",
    "  return latt\n",
    "end"
   ]
  },
  {
   "cell_type": "markdown",
   "id": "f509f01d",
   "metadata": {},
   "source": [
    "# TFIM"
   ]
  },
  {
   "cell_type": "code",
   "execution_count": 65,
   "id": "b1416152",
   "metadata": {},
   "outputs": [
    {
     "name": "stdout",
     "output_type": "stream",
     "text": [
      "sweeps = Sweeps\n",
      "1 cutoff=1.0E-08, maxdim=20, mindim=1, noise=0.0E+00\n",
      "2 cutoff=1.0E-08, maxdim=60, mindim=1, noise=0.0E+00\n",
      "3 cutoff=1.0E-08, maxdim=100, mindim=1, noise=0.0E+00\n",
      "4 cutoff=1.0E-08, maxdim=100, mindim=1, noise=0.0E+00\n",
      "5 cutoff=1.0E-08, maxdim=200, mindim=1, noise=0.0E+00\n",
      "6 cutoff=1.0E-08, maxdim=400, mindim=1, noise=0.0E+00\n",
      "7 cutoff=1.0E-08, maxdim=800, mindim=1, noise=0.0E+00\n",
      "8 cutoff=1.0E-08, maxdim=800, mindim=1, noise=0.0E+00\n",
      "9 cutoff=1.0E-08, maxdim=800, mindim=1, noise=0.0E+00\n",
      "10 cutoff=1.0E-08, maxdim=800, mindim=1, noise=0.0E+00\n",
      "\n",
      "After sweep 1 energy=-4.947517275594013  maxlinkdim=16 maxerr=8.33E-17 time=0.024\n",
      "After sweep 2 energy=-4.948533946838914  maxlinkdim=14 maxerr=6.43E-09 time=0.010\n",
      "After sweep 3 energy=-4.948533976272672  maxlinkdim=13 maxerr=8.53E-09 time=0.010\n",
      "After sweep 4 energy=-4.94853397627401  maxlinkdim=13 maxerr=8.14E-09 time=0.010\n",
      "After sweep 5 energy=-4.948533976274007  maxlinkdim=13 maxerr=8.14E-09 time=0.025\n",
      "After sweep 6 energy=-4.948533976274012  maxlinkdim=13 maxerr=8.14E-09 time=0.010\n",
      "After sweep 7 energy=-4.948533976274009  maxlinkdim=13 maxerr=8.14E-09 time=0.011\n",
      "After sweep 8 energy=-4.9485339762740175  maxlinkdim=13 maxerr=8.14E-09 time=0.010\n",
      "After sweep 9 energy=-4.948533976274014  maxlinkdim=13 maxerr=8.14E-09 time=0.026\n",
      "After sweep 10 energy=-4.948533976274014  maxlinkdim=13 maxerr=8.14E-09 time=0.010\n"
     ]
    }
   ],
   "source": [
    "using ITensors\n",
    "\n",
    "let\n",
    "  Ny = 3\n",
    "  Nx = 3\n",
    "\n",
    "  N = Nx*Ny\n",
    "\n",
    "  sites = siteinds(\"S=1/2\", N)\n",
    "\n",
    "  # Obtain an array of LatticeBond structs\n",
    "  # which define nearest-neighbor site pairs\n",
    "  # on the 2D square lattice (wrapped on a cylinder)\n",
    "  lattice = square_lattice(Nx, Ny; yperiodic = false)\n",
    "\n",
    "  # Define the Heisenberg spin Hamiltonian on this lattice\n",
    "  ampo = OpSum()\n",
    "  for b in lattice\n",
    "    ampo .+=      4, \"Sz\", b.s1, \"Sz\", b.s2\n",
    "  end\n",
    "  for site in 1:N\n",
    "    ampo .+=       4, \"Sx\", site\n",
    "  end\n",
    "  H = MPO(ampo,sites)\n",
    "\n",
    "#   state = [isodd(n) ? \"Up\" : \"Dn\" for n=1:N]\n",
    "  # Initialize wavefunction to a random MPS\n",
    "  # of bond-dimension 10 with same quantum\n",
    "  # numbers as `state`\n",
    "  psi0 = randomMPS(sites,20)\n",
    "\n",
    "  sweeps = Sweeps(10)\n",
    "  maxdim!(sweeps,20,60,100,100,200,400,800)\n",
    "  cutoff!(sweeps,1E-8)\n",
    "  @show sweeps\n",
    "\n",
    "  energy,psi = dmrg(H,psi0,sweeps)\n",
    "\n",
    "  return\n",
    "end"
   ]
  },
  {
   "cell_type": "markdown",
   "id": "e46ebb5a",
   "metadata": {},
   "source": [
    "# Antiferromagnetic Heisenberg Model (Triangular Lattice!!!!)"
   ]
  },
  {
   "cell_type": "code",
   "execution_count": 7,
   "id": "a8e0da07",
   "metadata": {},
   "outputs": [
    {
     "name": "stdout",
     "output_type": "stream",
     "text": [
      "sweeps = Sweeps\n",
      "1 cutoff=1.0E-08, maxdim=20, mindim=1, noise=0.0E+00\n",
      "2 cutoff=1.0E-08, maxdim=60, mindim=1, noise=0.0E+00\n",
      "3 cutoff=1.0E-08, maxdim=100, mindim=1, noise=0.0E+00\n",
      "4 cutoff=1.0E-08, maxdim=100, mindim=1, noise=0.0E+00\n",
      "5 cutoff=1.0E-08, maxdim=100, mindim=1, noise=0.0E+00\n",
      "6 cutoff=1.0E-08, maxdim=12, mindim=1, noise=0.0E+00\n",
      "7 cutoff=1.0E-08, maxdim=12, mindim=1, noise=0.0E+00\n",
      "8 cutoff=1.0E-08, maxdim=12, mindim=1, noise=0.0E+00\n",
      "9 cutoff=1.0E-08, maxdim=12, mindim=1, noise=0.0E+00\n",
      "10 cutoff=1.0E-08, maxdim=12, mindim=1, noise=0.0E+00\n",
      "\n",
      "After sweep 1 energy=-67.63615195629286  maxlinkdim=20 maxerr=3.05E-03 time=0.481\n",
      "After sweep 2 energy=-70.75733464787476  maxlinkdim=60 maxerr=1.29E-04 time=0.833\n",
      "After sweep 3 energy=-71.43679636139738  maxlinkdim=100 maxerr=2.15E-04 time=1.925\n",
      "After sweep 4 energy=-71.45875473992619  maxlinkdim=100 maxerr=3.09E-04 time=2.257\n",
      "After sweep 5 energy=-71.46076862721954  maxlinkdim=100 maxerr=3.15E-04 time=2.244\n",
      "After sweep 6 energy=-66.05101979232671  maxlinkdim=12 maxerr=4.65E-02 time=0.465\n",
      "After sweep 7 energy=-66.26039546154576  maxlinkdim=12 maxerr=9.10E-03 time=0.338\n",
      "After sweep 8 energy=-66.30537060595965  maxlinkdim=12 maxerr=7.76E-03 time=0.339\n",
      "After sweep 9 energy=-66.32909264744585  maxlinkdim=12 maxerr=8.00E-03 time=0.340\n",
      "After sweep 10 energy=-66.35043926844858  maxlinkdim=12 maxerr=8.41E-03 time=0.326\n",
      "energy / (4 * Nx * Ny) = -0.46076693936422625\n"
     ]
    }
   ],
   "source": [
    "using ITensors\n",
    "\n",
    "let\n",
    "  Ny = 6\n",
    "  Nx = 6\n",
    "  maxbd = 12\n",
    "    \n",
    "  N = Nx*Ny\n",
    "\n",
    "  sites = siteinds(\"S=1/2\", N;\n",
    "                   conserve_qns = true)\n",
    "\n",
    "  # Obtain an array of LatticeBond structs\n",
    "  # which define nearest-neighbor site pairs\n",
    "  # on the 2D TRIANGULAR(!) lattice \n",
    "  lattice = triangular_lattice(Nx, Ny; yperiodic = false)\n",
    "\n",
    "  # Define the Heisenberg spin Hamiltonian on this lattice\n",
    "  ampo = OpSum()\n",
    "  for b in lattice\n",
    "    ampo .+= 2, \"S+\", b.s1, \"S-\", b.s2\n",
    "    ampo .+= 2, \"S-\", b.s1, \"S+\", b.s2\n",
    "    ampo .+= 4,  \"Sz\", b.s1, \"Sz\", b.s2\n",
    "  end\n",
    "  H = MPO(ampo,sites)\n",
    "\n",
    "  state = [isodd(n) ? \"Up\" : \"Dn\" for n=1:N]\n",
    "  # Initialize wavefunction to a random MPS\n",
    "  # of bond-dimension 10 with same quantum\n",
    "  # numbers as `state`\n",
    "  psi0 = randomMPS(sites,state,20)\n",
    "\n",
    "  sweeps = Sweeps(10)\n",
    "  maxdim!(sweeps,20,60,100,100,100,maxbd)\n",
    "  cutoff!(sweeps,1E-8)\n",
    "  @show sweeps\n",
    "\n",
    "  energy,psi = dmrg(H,psi0,sweeps)\n",
    "    \n",
    "  @show energy/(4*Nx*Ny)\n",
    "\n",
    "  return\n",
    "end"
   ]
  },
  {
   "cell_type": "code",
   "execution_count": null,
   "id": "8c441922",
   "metadata": {},
   "outputs": [],
   "source": []
  }
 ],
 "metadata": {
  "kernelspec": {
   "display_name": "Julia 1.9.3",
   "language": "julia",
   "name": "julia-1.9"
  },
  "language_info": {
   "file_extension": ".jl",
   "mimetype": "application/julia",
   "name": "julia",
   "version": "1.9.3"
  }
 },
 "nbformat": 4,
 "nbformat_minor": 5
}
