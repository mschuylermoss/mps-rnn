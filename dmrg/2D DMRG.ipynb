{
 "cells": [
  {
   "cell_type": "code",
   "execution_count": 1,
   "id": "fa1fc69b",
   "metadata": {},
   "outputs": [
    {
     "name": "stderr",
     "output_type": "stream",
     "text": [
      "\u001b[36m\u001b[1m[ \u001b[22m\u001b[39m\u001b[36m\u001b[1mInfo: \u001b[22m\u001b[39mInstalling julia_ITensors kernelspec in /Users/mschuylerm/Library/Jupyter/kernels/julia_itensors-1.9\n"
     ]
    },
    {
     "data": {
      "text/plain": [
       "\"/Users/mschuylerm/Library/Jupyter/kernels/julia_itensors-1.9\""
      ]
     },
     "execution_count": 1,
     "metadata": {},
     "output_type": "execute_result"
    }
   ],
   "source": [
    "using IJulia\n",
    "installkernel(\"julia_ITensors\",\"--sysimage=~/.julia/sysimages/sys_itensors.so\")"
   ]
  },
  {
   "cell_type": "code",
   "execution_count": 2,
   "id": "bb897657",
   "metadata": {},
   "outputs": [],
   "source": [
    "using ITensors\n",
    "using ITensors.HDF5\n",
    "using DataFrames"
   ]
  },
  {
   "cell_type": "markdown",
   "id": "be5c1330",
   "metadata": {},
   "source": [
    "# Square Lattice"
   ]
  },
  {
   "cell_type": "code",
   "execution_count": 3,
   "id": "44fd55b8",
   "metadata": {},
   "outputs": [
    {
     "data": {
      "text/plain": [
       "square_lattice (generic function with 1 method)"
      ]
     },
     "execution_count": 3,
     "metadata": {},
     "output_type": "execute_result"
    }
   ],
   "source": [
    "function square_lattice(Lx::Int, Ly::Int, bc::String)\n",
    "    interactions = Vector{Int}[];\n",
    "    interactions = Vector{Int}[];\n",
    "\n",
    "    for n in (1: Lx-1)\n",
    "        for n_ in (1: Ly)\n",
    "            # horizontal square lattice interactions (excluding boundary terms)\n",
    "            push!(interactions,[coord_to_site_bravais(Lx, n, n_), \n",
    "                                coord_to_site_bravais(Lx, n + 1, n_)])\n",
    "        end\n",
    "    end\n",
    "    for n in (1: Lx)\n",
    "        for n_ in (1: Ly-1)\n",
    "            # vertical square lattice interactions (excluding boundary terms)\n",
    "            push!(interactions,[coord_to_site_bravais(Lx, n, n_), \n",
    "                                coord_to_site_bravais(Lx, n, n_ + 1)])\n",
    "        end\n",
    "    end\n",
    "    return interactions\n",
    "end"
   ]
  },
  {
   "cell_type": "markdown",
   "id": "abec4c8a",
   "metadata": {},
   "source": [
    "# Triangular Lattice"
   ]
  },
  {
   "cell_type": "code",
   "execution_count": 4,
   "id": "979bca66",
   "metadata": {},
   "outputs": [
    {
     "data": {
      "text/plain": [
       "triangular_lattice (generic function with 1 method)"
      ]
     },
     "execution_count": 4,
     "metadata": {},
     "output_type": "execute_result"
    }
   ],
   "source": [
    "function triangular_lattice(Lx::Int, Ly::Int, bc::String)\n",
    "    interactions = Vector{Int}[];\n",
    "\n",
    "    for n in (1: Lx-1)\n",
    "        for n_ in (1: Ly)\n",
    "            # horizontal square lattice interactions (excluding boundary terms)\n",
    "            push!(interactions,[coord_to_site_bravais(Lx, n, n_), \n",
    "                                coord_to_site_bravais(Lx, n + 1, n_)])\n",
    "        end\n",
    "    end\n",
    "    for n in (1: Lx)\n",
    "        for n_ in (1: Ly-1)\n",
    "            # vertical square lattice interactions (excluding boundary terms)\n",
    "            push!(interactions,[coord_to_site_bravais(Lx, n, n_), \n",
    "                                coord_to_site_bravais(Lx, n, n_ + 1)])\n",
    "        end\n",
    "    end\n",
    "    for n in (2: Lx)\n",
    "        for n_ in (2: Ly)\n",
    "            # diagonal interactions\n",
    "            push!(interactions,[coord_to_site_bravais(Lx, n, n_), \n",
    "            coord_to_site_bravais(Lx, n - 1, n_ - 1)])\n",
    "        end\n",
    "    end\n",
    "\n",
    "    return interactions\n",
    "end"
   ]
  },
  {
   "cell_type": "markdown",
   "id": "e46ebb5a",
   "metadata": {},
   "source": [
    "# Antiferromagnetic Heisenberg Model"
   ]
  },
  {
   "cell_type": "code",
   "execution_count": null,
   "id": "a8e0da07",
   "metadata": {},
   "outputs": [],
   "source": []
  }
 ],
 "metadata": {
  "kernelspec": {
   "display_name": "Julia 1.9.3",
   "language": "julia",
   "name": "julia-1.9"
  },
  "language_info": {
   "file_extension": ".jl",
   "mimetype": "application/julia",
   "name": "julia",
   "version": "1.9.3"
  }
 },
 "nbformat": 4,
 "nbformat_minor": 5
}
